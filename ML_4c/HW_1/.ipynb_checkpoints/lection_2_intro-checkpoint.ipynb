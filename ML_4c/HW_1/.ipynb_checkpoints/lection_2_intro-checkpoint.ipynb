{
 "cells": [
  {
   "cell_type": "code",
   "execution_count": 19,
   "metadata": {},
   "outputs": [],
   "source": [
    "from sklearn import datasets\n",
    "iris = datasets.load_iris()"
   ]
  },
  {
   "cell_type": "code",
   "execution_count": 20,
   "metadata": {},
   "outputs": [
    {
     "data": {
      "text/plain": [
       "array([[5.1, 3.5, 1.4, 0.2],\n",
       "       [4.9, 3. , 1.4, 0.2],\n",
       "       [4.7, 3.2, 1.3, 0.2]])"
      ]
     },
     "execution_count": 20,
     "metadata": {},
     "output_type": "execute_result"
    }
   ],
   "source": [
    "iris.data[:3]"
   ]
  },
  {
   "cell_type": "code",
   "execution_count": 21,
   "metadata": {},
   "outputs": [
    {
     "data": {
      "text/plain": [
       "array([0, 0, 0])"
      ]
     },
     "execution_count": 21,
     "metadata": {},
     "output_type": "execute_result"
    }
   ],
   "source": [
    "iris.target[:3]"
   ]
  },
  {
   "cell_type": "code",
   "execution_count": 22,
   "metadata": {},
   "outputs": [
    {
     "data": {
      "text/plain": [
       "array(['setosa', 'versicolor', 'virginica'], dtype='<U10')"
      ]
     },
     "execution_count": 22,
     "metadata": {},
     "output_type": "execute_result"
    }
   ],
   "source": [
    "iris.target_names"
   ]
  },
  {
   "cell_type": "markdown",
   "metadata": {},
   "source": [
    "Необходимо перемешать данные. При перемешивании необходимо целевую переменную \"прикрепить\" к признакам, чтобы не получилось так, что ответы будут от других исходных данных"
   ]
  },
  {
   "cell_type": "code",
   "execution_count": 23,
   "metadata": {},
   "outputs": [],
   "source": [
    "data = iris.data.tolist()\n",
    "target = iris.target.tolist()"
   ]
  },
  {
   "cell_type": "code",
   "execution_count": 24,
   "metadata": {},
   "outputs": [],
   "source": [
    "t = [(x,y) for x,y in zip(data,target)]"
   ]
  },
  {
   "cell_type": "code",
   "execution_count": 25,
   "metadata": {},
   "outputs": [
    {
     "data": {
      "text/plain": [
       "[([5.1, 3.5, 1.4, 0.2], 0),\n",
       " ([4.9, 3.0, 1.4, 0.2], 0),\n",
       " ([4.7, 3.2, 1.3, 0.2], 0)]"
      ]
     },
     "execution_count": 25,
     "metadata": {},
     "output_type": "execute_result"
    }
   ],
   "source": [
    "t[:3]"
   ]
  },
  {
   "cell_type": "code",
   "execution_count": 26,
   "metadata": {},
   "outputs": [],
   "source": [
    "import random\n",
    "random.Random(4).shuffle(t)"
   ]
  },
  {
   "cell_type": "code",
   "execution_count": 27,
   "metadata": {},
   "outputs": [
    {
     "data": {
      "text/plain": [
       "[([4.3, 3.0, 1.1, 0.1], 0),\n",
       " ([6.3, 3.4, 5.6, 2.4], 2),\n",
       " ([6.1, 3.0, 4.6, 1.4], 1)]"
      ]
     },
     "execution_count": 27,
     "metadata": {},
     "output_type": "execute_result"
    }
   ],
   "source": [
    "t[:3]"
   ]
  },
  {
   "cell_type": "code",
   "execution_count": 28,
   "metadata": {},
   "outputs": [],
   "source": [
    "X = [ti[0] for ti in t]\n",
    "y = [ti[1] for ti in t]"
   ]
  },
  {
   "cell_type": "markdown",
   "metadata": {},
   "source": [
    "### Воспользуемся сделанными в ДЗ функциями Distance и ListSplit"
   ]
  },
  {
   "cell_type": "code",
   "execution_count": 30,
   "metadata": {},
   "outputs": [],
   "source": [
    "import lection_2_module as m2"
   ]
  },
  {
   "cell_type": "markdown",
   "metadata": {},
   "source": [
    "Разобьем признаки и ответы в соотношении 7 к 3м <br/>\n",
    "Тренировочный набор X_train, y_train - на этих данных обучим алгоритм <br/>\n",
    "Проверочный набор X_test, y_test - на этих данных проверим точность алгоритма"
   ]
  },
  {
   "cell_type": "code",
   "execution_count": 31,
   "metadata": {},
   "outputs": [],
   "source": [
    "X_train, X_test = m2.ListSplit(X, 0.7)\n",
    "y_train, y_test = m2.ListSplit(y, 0.7)"
   ]
  },
  {
   "cell_type": "code",
   "execution_count": 32,
   "metadata": {},
   "outputs": [
    {
     "data": {
      "text/plain": [
       "(105, 45)"
      ]
     },
     "execution_count": 32,
     "metadata": {},
     "output_type": "execute_result"
    }
   ],
   "source": [
    "len(X_train), len(X_test)"
   ]
  },
  {
   "cell_type": "code",
   "execution_count": 33,
   "metadata": {},
   "outputs": [],
   "source": [
    "def GetClassByKNeighbours(x_tr, y_tr, xnew, k):\n",
    "#----------------1----------------\n",
    "    distances = {} #{} - словарь\n",
    "    for i in range(len(x_tr)):\n",
    "        d = m2.Distanсe(x_tr[i], xnew)#расстояние от нового образца до i-го из тестовой выборки\n",
    "        if(d not in distances): #ключ - расстояние, значение - класс(классы)\n",
    "            distances[d] = [y_tr[i]]\n",
    "        else:\n",
    "            distances[d].append(y_tr[i])\n",
    "#{0.1414213562373093:[1], 0.3872983346207412:[1], 0.4582575694955839:[0,1],\n",
    "#----------------2----------------\n",
    "    taken = 0\n",
    "    classes = [] #к какому классу относятся k ближайших образцов\n",
    "    for key in sorted(distances):#сортируем по возрастанию расстояний\n",
    "        if(taken >= k): break #если набрали k соседей - прекращаем цикл\n",
    "        for dclass in distances[key]:\n",
    "            if(taken >= k): break\n",
    "            classes.append(dclass)\n",
    "            taken += 1\n",
    "#[1,1,1,0,1,1,0]\n",
    "#----------------3----------------            \n",
    "    classesDic = {x:classes.count(x) for x in classes}\n",
    "    return max(classesDic, key=classesDic.get)"
   ]
  },
  {
   "cell_type": "code",
   "execution_count": 34,
   "metadata": {},
   "outputs": [
    {
     "name": "stdout",
     "output_type": "stream",
     "text": [
      "1\n",
      "0\n"
     ]
    }
   ],
   "source": [
    "print(GetClassByKNeighbours(X_train, y_train, X_test[6], 7))\n",
    "print(GetClassByKNeighbours(X_train, y_train, X_test[7], 7))"
   ]
  },
  {
   "cell_type": "code",
   "execution_count": 35,
   "metadata": {},
   "outputs": [
    {
     "data": {
      "text/plain": [
       "45"
      ]
     },
     "execution_count": 35,
     "metadata": {},
     "output_type": "execute_result"
    }
   ],
   "source": [
    "len(X_test)"
   ]
  },
  {
   "cell_type": "code",
   "execution_count": 36,
   "metadata": {},
   "outputs": [
    {
     "name": "stdout",
     "output_type": "stream",
     "text": [
      "accuracy=0.96\n"
     ]
    }
   ],
   "source": [
    "correctPrediction = 0\n",
    "for i in range(len(X_test)):\n",
    "    predict = GetClassByKNeighbours(X_train, y_train, X_test[i], 7)\n",
    "    #сравним предсказанную метку с той, что есть для тестового объекта\n",
    "    #если предсказали правильно, то увеличим число правильных предсказаний\n",
    "    if(predict == y_test[i]): correctPrediction += 1\n",
    "#посмотрим, сколько процентов предсказали правильно\n",
    "print('accuracy={0}'.format(round(correctPrediction/len(X_test), 2)))"
   ]
  },
  {
   "cell_type": "code",
   "execution_count": 37,
   "metadata": {},
   "outputs": [
    {
     "data": {
      "text/plain": [
       "43"
      ]
     },
     "execution_count": 37,
     "metadata": {},
     "output_type": "execute_result"
    }
   ],
   "source": [
    "correctPrediction"
   ]
  },
  {
   "cell_type": "code",
   "execution_count": null,
   "metadata": {},
   "outputs": [],
   "source": []
  }
 ],
 "metadata": {
  "kernelspec": {
   "display_name": "Python 3",
   "language": "python",
   "name": "python3"
  },
  "language_info": {
   "codemirror_mode": {
    "name": "ipython",
    "version": 3
   },
   "file_extension": ".py",
   "mimetype": "text/x-python",
   "name": "python",
   "nbconvert_exporter": "python",
   "pygments_lexer": "ipython3",
   "version": "3.8.8"
  }
 },
 "nbformat": 4,
 "nbformat_minor": 2
}
