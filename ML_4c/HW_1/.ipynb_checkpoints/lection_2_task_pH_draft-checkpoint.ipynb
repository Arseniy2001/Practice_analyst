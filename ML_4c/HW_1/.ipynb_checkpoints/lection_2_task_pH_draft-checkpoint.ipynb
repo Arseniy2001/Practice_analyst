{
 "cells": [
  {
   "cell_type": "markdown",
   "metadata": {},
   "source": [
    "Номер группы, ФИО:"
   ]
  },
  {
   "cell_type": "code",
   "execution_count": 1,
   "metadata": {},
   "outputs": [],
   "source": [
    "from sklearn.model_selection import train_test_split\n",
    "from sklearn.neighbors import KNeighborsClassifier\n",
    "from sklearn.naive_bayes import GaussianNB\n",
    "from sklearn.tree import DecisionTreeClassifier\n",
    "from sklearn.metrics import accuracy_score\n",
    "import pandas as pd"
   ]
  },
  {
   "cell_type": "markdown",
   "metadata": {},
   "source": [
    "Считываем данные из файла 'ph-data.csv'. Первые три столбца будут выступать в качестве матрицы признаков объектов - создать из них новый объект X. Целевая переменная хранится в столбце с названием label - из нее создать новый объект y. Заменить все значения y, меньшие 6 (кислотная среда) на -1, большие 9 (щелочная среда) на 1, 6-9 на 0."
   ]
  },
  {
   "cell_type": "code",
   "execution_count": null,
   "metadata": {},
   "outputs": [],
   "source": []
  },
  {
   "cell_type": "markdown",
   "metadata": {},
   "source": [
    "Разбить данные на тренировочные и тестовые в соотношении 7/3. Зафиксировать random_state=5"
   ]
  },
  {
   "cell_type": "code",
   "execution_count": null,
   "metadata": {},
   "outputs": [],
   "source": []
  },
  {
   "cell_type": "markdown",
   "metadata": {},
   "source": [
    "Создать и обучить поочередно классификаторы KNeighborsClassifier, GaussianNB, DecisionTreeClassifier. Обучить их на тренировочной выборке, оценить точность на проверочной. Попробовать изменить параметры в конструкторе n_neighbors у ближайших соседей, max_depth у дерева. Посмотреть как изменится точность предсказаний (и изменится ли)."
   ]
  },
  {
   "cell_type": "code",
   "execution_count": null,
   "metadata": {},
   "outputs": [],
   "source": []
  },
  {
   "cell_type": "markdown",
   "metadata": {},
   "source": [
    "Выбрать из просмотренных классификаторов тот классификатор и тот параметр конструктора, который показал большую точность. Обучить его на полной выборке X, y."
   ]
  },
  {
   "cell_type": "code",
   "execution_count": null,
   "metadata": {},
   "outputs": [],
   "source": []
  },
  {
   "cell_type": "markdown",
   "metadata": {},
   "source": [
    "Проверить, какой результат вернет классификатор для следующих объектов, заданных в формате RGB:\n",
    "\n",
    "<br>\n",
    "<code style=\"background:rgb(255, 38, 0);color:white\">[255, 38, 0]</code>\n",
    "<br>\n",
    "<code style=\"background:rgb(254, 38, 0);color:white\">[254, 38, 0]</code>\n",
    "<br>\n",
    "<code style=\"background:rgb(254, 84, 0);color:white\">[254, 84, 0]</code>\n",
    "<br>\n",
    "<code style=\"background:rgb(254, 84, 84);color:white\">[254, 84, 84]</code>\n",
    "<br>\n",
    "<code style=\"background:rgb(170, 38, 0);color:white\">[170, 38, 0]</code>\n",
    "<br>\n",
    "<code style=\"background:rgb(170, 84, 0);color:white\">[170, 84, 0]</code>\n",
    "<br>\n",
    "<code style=\"background:rgb(170, 84, 84);color:white\">[170, 84, 84]</code>\n",
    "\n",
    "\n",
    "<br>\n",
    "<code style=\"background:rgb(255, 124, 0);color:white\">[255, 124, 0]</code>\n",
    "<br>\n",
    "<code style=\"background:rgb(141, 250, 0);color:black\">[141, 250, 0]</code>\n",
    "<br>\n",
    "<code style=\"background:rgb(179, 68, 198);color:white\">[179, 68, 198]</code>\n",
    "<br>\n",
    "<code style=\"background:rgb(111, 43, 142);color:white\">[111, 43, 142]</code>"
   ]
  },
  {
   "cell_type": "code",
   "execution_count": 1,
   "metadata": {},
   "outputs": [],
   "source": [
    "X_new = [[255, 38, 0],[255, 124, 0],[141, 250, 0],[179, 68, 198],[111, 43, 142]]"
   ]
  },
  {
   "cell_type": "code",
   "execution_count": null,
   "metadata": {},
   "outputs": [],
   "source": []
  }
 ],
 "metadata": {
  "kernelspec": {
   "display_name": "Python 3",
   "language": "python",
   "name": "python3"
  },
  "language_info": {
   "codemirror_mode": {
    "name": "ipython",
    "version": 3
   },
   "file_extension": ".py",
   "mimetype": "text/x-python",
   "name": "python",
   "nbconvert_exporter": "python",
   "pygments_lexer": "ipython3",
   "version": "3.8.8"
  }
 },
 "nbformat": 4,
 "nbformat_minor": 2
}
