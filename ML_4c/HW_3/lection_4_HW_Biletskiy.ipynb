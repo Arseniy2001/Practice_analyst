{
 "cells": [
  {
   "cell_type": "markdown",
   "metadata": {},
   "source": [
    "Номер группы, ФИО: 402Б Билецкий Арсений Олегович"
   ]
  },
  {
   "cell_type": "code",
   "execution_count": 111,
   "metadata": {},
   "outputs": [],
   "source": [
    "import numpy as np\n",
    "from sklearn.preprocessing import StandardScaler, MinMaxScaler\n",
    "from sklearn.linear_model import Perceptron\n",
    "from sklearn.neighbors import KNeighborsClassifier\n",
    "from sklearn.tree import DecisionTreeClassifier\n",
    "from sklearn.linear_model import LogisticRegression\n",
    "from sklearn import metrics\n",
    "from sklearn.datasets import load_wine\n",
    "from sklearn.model_selection import train_test_split"
   ]
  },
  {
   "cell_type": "markdown",
   "metadata": {},
   "source": [
    "Загрузить данные load_wine. (параметр return_X_y=True позволит вернуть данные в виде объекта tuple X, y). Разбить данные на тренировочные и проверочные в соотношении 7/3. Зафиксировать random_state=5."
   ]
  },
  {
   "cell_type": "code",
   "execution_count": 112,
   "metadata": {},
   "outputs": [],
   "source": [
    "wine = load_wine(return_X_y=True)\n",
    "X_train, X_test, y_train, y_test = train_test_split(wine[0], wine[1], test_size=0.3, random_state=5)"
   ]
  },
  {
   "cell_type": "markdown",
   "metadata": {},
   "source": [
    "## Сравнение результатов работы алгоритмов после применения MinMaxScaler и StandardScaler"
   ]
  },
  {
   "cell_type": "code",
   "execution_count": 113,
   "metadata": {},
   "outputs": [],
   "source": [
    "np.set_printoptions(suppress=True)#не отображать числа с плавающей точкой как e+00, \n",
    "#отображать как 0.0012345"
   ]
  },
  {
   "cell_type": "markdown",
   "metadata": {},
   "source": [
    "* Сделать массив классификаторов `[Perceptron, LogisticRegression, KNeighborsClassifier(n_neighbors=7), DecisionTreeClassifier(max_depth=3)]` \n",
    "\n",
    "* Создать масштабирующие классы `StandatdScaler` и `MinMaxScaler`. \n",
    "\n",
    "* Отмасштабировать тренировочные (`fit_transform()`) и тестовые (`transform()`) признаки и тем и другим классом.\n",
    "\n",
    "* Поочередно оценить точность прогнозов на немсаштабированных данных, данных после `MinMaxScaler`, после `StandardScaler` для алгоритмов из массива.\n",
    "\n",
    "* Отобразить точность для каждого случая (название класса можно вывести как `clfr.__class__.__name__`)"
   ]
  },
  {
   "cell_type": "code",
   "execution_count": 124,
   "metadata": {},
   "outputs": [
    {
     "data": {
      "text/plain": [
       "'Perceptron'"
      ]
     },
     "execution_count": 124,
     "metadata": {},
     "output_type": "execute_result"
    }
   ],
   "source": [
    "clr = [Perceptron(max_iter=1000, tol=1e-3), \n",
    "          LogisticRegression(multi_class='auto',solver='liblinear'),\n",
    "          KNeighborsClassifier(n_neighbors=7), \n",
    "          DecisionTreeClassifier(max_depth=3)]\n",
    "clr[0].__class__.__name__"
   ]
  },
  {
   "cell_type": "code",
   "execution_count": 125,
   "metadata": {},
   "outputs": [],
   "source": [
    "def Fit_Predict(X,y,X_test):\n",
    "    A=[]\n",
    "    N=[]\n",
    "    for i in range(len(clr)):\n",
    "        clr[i].fit(X, y) \n",
    "        A.append(clr[i].predict(X_test))\n",
    "        N.append(clr[i].__class__.__name__)\n",
    "    return A,N"
   ]
  },
  {
   "cell_type": "code",
   "execution_count": 126,
   "metadata": {},
   "outputs": [],
   "source": [
    "scaler = StandardScaler()\n",
    "scaled = scaler.fit_transform(X_train)\n",
    "test_scaled=scaler.transform(X_test)"
   ]
  },
  {
   "cell_type": "code",
   "execution_count": 127,
   "metadata": {},
   "outputs": [],
   "source": [
    "minmaxscaler = MinMaxScaler()\n",
    "minmaxscaled = minmaxscaler.fit_transform(X_train)\n",
    "test_minmaxscaled=minmaxscaler.transform(X_test)"
   ]
  },
  {
   "cell_type": "code",
   "execution_count": 128,
   "metadata": {},
   "outputs": [],
   "source": [
    "Predict, Name_1=Fit_Predict(X_train, y_train, X_test)\n",
    "Predict_scaler, Name_2=Fit_Predict(scaled, y_train, test_scaled)\n",
    "Predict_minmaxscaler, Name_3=Fit_Predict(minmaxscaled, y_train, test_minmaxscaled)"
   ]
  },
  {
   "cell_type": "code",
   "execution_count": 129,
   "metadata": {},
   "outputs": [
    {
     "name": "stdout",
     "output_type": "stream",
     "text": [
      "Прогноз на немсаштабированных данных\n",
      "Perceptron 0.593\n",
      "LogisticRegression 0.926\n",
      "KNeighborsClassifier 0.759\n",
      "DecisionTreeClassifier 0.926\n"
     ]
    }
   ],
   "source": [
    "print('Прогноз на немсаштабированных данных')\n",
    "for i in range(len(clr)):\n",
    "    print(Name_1[i],round(metrics.accuracy_score(y_test, Predict[i]),3))"
   ]
  },
  {
   "cell_type": "code",
   "execution_count": 130,
   "metadata": {
    "scrolled": true
   },
   "outputs": [
    {
     "name": "stdout",
     "output_type": "stream",
     "text": [
      "Прогноз на данных после StandardScaler()\n",
      "Perceptron 1.0\n",
      "LogisticRegression 1.0\n",
      "KNeighborsClassifier 0.981\n",
      "DecisionTreeClassifier 0.926\n"
     ]
    }
   ],
   "source": [
    "print('Прогноз на данных после StandardScaler()')\n",
    "for i in range(len(clr)):\n",
    "    print(Name_2[i],round(metrics.accuracy_score(y_test, Predict_scaler[i]),3))"
   ]
  },
  {
   "cell_type": "code",
   "execution_count": 131,
   "metadata": {},
   "outputs": [
    {
     "name": "stdout",
     "output_type": "stream",
     "text": [
      "Прогноз на данных после MinMaxScaler()\n",
      "Perceptron 0.926\n",
      "LogisticRegression 0.944\n",
      "KNeighborsClassifier 0.963\n",
      "DecisionTreeClassifier 0.926\n"
     ]
    }
   ],
   "source": [
    "print('Прогноз на данных после MinMaxScaler()')\n",
    "for i in range(len(clr)):\n",
    "    print(Name_3[i],round(metrics.accuracy_score(y_test, Predict_minmaxscaler[i]),3))"
   ]
  },
  {
   "cell_type": "markdown",
   "metadata": {},
   "source": [
    "Ответить на вопросы:\n",
    "1. В каком случае (StandatdScaler/MinMaxScaler/без масштабирования) алгоритмы показали лучший результат?\n",
    "\n",
    "Ответ: <font color='green'>Лучший результат показали классификаторы Perceptron, LogisticRegression с использованием StandardScaler()</font>\n",
    "\n",
    "2. Как повлияло масштабирование признаков на результаты работы DecisionTreeClassifier?\n",
    "\n",
    "Ответ: <font color='green'>Никак</font>"
   ]
  },
  {
   "cell_type": "markdown",
   "metadata": {},
   "source": [
    "Для классификатора `LogisticRegression` сделать конвейер с лучшим алгоритмом масштабирования, полученным в предыдущем задании. Обучить конвейер на тренировочных данных, сделать предсказания с помощью конвейера, оценить точность на тестовых данных.\n",
    "Из конвейера получить натренированный классификатор (`pipline.steps[0]` вернет `tuple` с масштабирующим классом, `pipline.steps[1]` вернет `tuple` с классификатором, откуда можно получить классификатор)"
   ]
  },
  {
   "cell_type": "code",
   "execution_count": 142,
   "metadata": {},
   "outputs": [
    {
     "data": {
      "text/plain": [
       "1.0"
      ]
     },
     "execution_count": 142,
     "metadata": {},
     "output_type": "execute_result"
    }
   ],
   "source": [
    "from sklearn.pipeline import Pipeline\n",
    "pipe = Pipeline(steps=[('scaler', StandardScaler()),('clf', LogisticRegression(multi_class='auto',solver='liblinear'))])\n",
    "pipe.fit(X_train, y_train)\n",
    "round(metrics.accuracy_score(y_test, pipe.predict(X_test)),3)"
   ]
  },
  {
   "cell_type": "code",
   "execution_count": 134,
   "metadata": {},
   "outputs": [
    {
     "data": {
      "text/plain": [
       "('scaler', StandardScaler())"
      ]
     },
     "execution_count": 134,
     "metadata": {},
     "output_type": "execute_result"
    }
   ],
   "source": [
    "pipe.steps[0]"
   ]
  },
  {
   "cell_type": "code",
   "execution_count": 135,
   "metadata": {},
   "outputs": [
    {
     "data": {
      "text/plain": [
       "('clf', LogisticRegression(solver='liblinear'))"
      ]
     },
     "execution_count": 135,
     "metadata": {},
     "output_type": "execute_result"
    }
   ],
   "source": [
    "pipe.steps[1]"
   ]
  },
  {
   "cell_type": "markdown",
   "metadata": {},
   "source": [
    "Отобразить коэффициенты весов `w` разделяющих классы гиперплоскостей (3 массива весов, которые отделяют каждый класс от двух других)"
   ]
  },
  {
   "cell_type": "code",
   "execution_count": 147,
   "metadata": {},
   "outputs": [
    {
     "data": {
      "text/plain": [
       "array([[ 1.19492626,  0.13597831,  0.47455935, -1.27276261, -0.00591202,\n",
       "         0.31594293,  0.92846648, -0.26177061, -0.0957287 ,  0.13128945,\n",
       "         0.06106702,  0.64448827,  1.72510196],\n",
       "       [-1.39030608, -0.50592331, -0.80222654,  0.64718261, -0.04381452,\n",
       "        -0.10982866,  0.49686606,  0.29667133,  0.21979153, -1.89590739,\n",
       "         0.84135887,  0.08353773, -1.65794101],\n",
       "       [ 0.33611661,  0.35644895,  0.32539937,  0.32404121,  0.07326638,\n",
       "        -0.01396881, -1.31261802, -0.03135595, -0.33526387,  1.65677635,\n",
       "        -0.83741372, -0.79692207, -0.13077839]])"
      ]
     },
     "execution_count": 147,
     "metadata": {},
     "output_type": "execute_result"
    }
   ],
   "source": [
    "w=np.array(pipe.named_steps['clf'].coef_)\n",
    "w"
   ]
  },
  {
   "cell_type": "code",
   "execution_count": 145,
   "metadata": {},
   "outputs": [],
   "source": [
    "names = np.array(['Алкоголь','Яблочная кислота','Зола','Щелочность золы','Магнезия',\n",
    "                  'Общее содержание фенолов', 'Флаваноиды', 'Нефлаваноидные фенолы', \n",
    "                  'Проантоцианины', 'Интенсивность цвета', 'Оттенок', \n",
    "                  'OD280 / OD315 разбавленных (разведенных) вин', 'Пролин'])"
   ]
  },
  {
   "cell_type": "markdown",
   "metadata": {},
   "source": [
    "По коэффициентам весов `w` классификатора  определить, какие из признаков наиболее значимы (имеют абсолютное значение больше единицы). <b>Важно:</b> для отбора признаков использовать возможности библиотеки NumPy (см. lection_2_numpy_start)"
   ]
  },
  {
   "cell_type": "code",
   "execution_count": 162,
   "metadata": {},
   "outputs": [
    {
     "data": {
      "text/plain": [
       "array([ True, False, False, False, False, False, False, False, False,\n",
       "       False, False, False,  True])"
      ]
     },
     "execution_count": 162,
     "metadata": {},
     "output_type": "execute_result"
    }
   ],
   "source": [
    "w[0]>abs(1)"
   ]
  },
  {
   "cell_type": "code",
   "execution_count": 158,
   "metadata": {},
   "outputs": [
    {
     "name": "stdout",
     "output_type": "stream",
     "text": [
      "Алкоголь\n",
      "Интенсивность цвета\n",
      "Пролин\n"
     ]
    }
   ],
   "source": [
    "import_signs=[]\n",
    "for i in range(len(w[0])):\n",
    "    if w[0][i]>abs(1) or w[1][i]>abs(1) or w[2][i]>abs(1):\n",
    "        print(names[i])"
   ]
  }
 ],
 "metadata": {
  "kernelspec": {
   "display_name": "Python 3 (ipykernel)",
   "language": "python",
   "name": "python3"
  },
  "language_info": {
   "codemirror_mode": {
    "name": "ipython",
    "version": 3
   },
   "file_extension": ".py",
   "mimetype": "text/x-python",
   "name": "python",
   "nbconvert_exporter": "python",
   "pygments_lexer": "ipython3",
   "version": "3.9.2"
  }
 },
 "nbformat": 4,
 "nbformat_minor": 2
}
