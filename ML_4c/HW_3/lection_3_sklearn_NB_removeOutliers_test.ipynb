{
 "cells": [
  {
   "cell_type": "code",
   "execution_count": 293,
   "metadata": {},
   "outputs": [],
   "source": [
    "import numpy as np\n",
    "import pandas as pd\n",
    "from sklearn.naive_bayes import GaussianNB\n",
    "from sklearn.tree import DecisionTreeClassifier\n",
    "from sklearn import datasets\n",
    "from sklearn.model_selection import train_test_split\n",
    "from sklearn.metrics import accuracy_score"
   ]
  },
  {
   "cell_type": "code",
   "execution_count": 294,
   "metadata": {},
   "outputs": [],
   "source": [
    "iris = datasets.load_iris()\n",
    "X = iris.data\n",
    "y = iris.target"
   ]
  },
  {
   "cell_type": "code",
   "execution_count": 295,
   "metadata": {},
   "outputs": [
    {
     "data": {
      "text/plain": [
       "['sepal length (cm)',\n",
       " 'sepal width (cm)',\n",
       " 'petal length (cm)',\n",
       " 'petal width (cm)']"
      ]
     },
     "execution_count": 295,
     "metadata": {},
     "output_type": "execute_result"
    }
   ],
   "source": [
    "iris.feature_names"
   ]
  },
  {
   "cell_type": "code",
   "execution_count": 319,
   "metadata": {},
   "outputs": [],
   "source": [
    "def GetWhiskers(column):\n",
    "    times = 1.5\n",
    "    q1q2q3 = np.quantile(column, [0.25,0.50,0.75])\n",
    "    print(q1q2q3)\n",
    "    IQR = q1q2q3[2]-q1q2q3[0]\n",
    "    w1 = q1q2q3[0]-times*IQR\n",
    "    w2 = q1q2q3[2]+times*IQR\n",
    "    print(IQR, w1, w2)\n",
    "    return column[column >= w1].min(), column[column <= w2].max()"
   ]
  },
  {
   "cell_type": "markdown",
   "metadata": {},
   "source": [
    "Разбиваем данные и целевые переменные на тренеровочные данные и проверочные в соотношении 4/5 (0.2 на проверку). Фиксируем random_state=50"
   ]
  },
  {
   "cell_type": "code",
   "execution_count": 309,
   "metadata": {},
   "outputs": [],
   "source": [
    "X_train, X_test, y_train, y_test = train_test_split(X, y, test_size=0.2, random_state=50)"
   ]
  },
  {
   "cell_type": "code",
   "execution_count": 310,
   "metadata": {},
   "outputs": [],
   "source": [
    "clr = GaussianNB()\n",
    "clr.fit(X_train, y_train)\n",
    "y_pred = clr.predict(X_test)"
   ]
  },
  {
   "cell_type": "code",
   "execution_count": 311,
   "metadata": {},
   "outputs": [
    {
     "data": {
      "text/plain": [
       "0.9333333333333333"
      ]
     },
     "execution_count": 311,
     "metadata": {},
     "output_type": "execute_result"
    }
   ],
   "source": [
    "accuracy_score(y_test, y_pred)"
   ]
  },
  {
   "cell_type": "code",
   "execution_count": 312,
   "metadata": {},
   "outputs": [],
   "source": [
    "col_names = iris.feature_names"
   ]
  },
  {
   "cell_type": "code",
   "execution_count": 313,
   "metadata": {},
   "outputs": [],
   "source": [
    "df = pd.DataFrame(X_train, columns=col_names)"
   ]
  },
  {
   "cell_type": "code",
   "execution_count": 314,
   "metadata": {},
   "outputs": [],
   "source": [
    "df['y'] = y_train"
   ]
  },
  {
   "cell_type": "code",
   "execution_count": 318,
   "metadata": {},
   "outputs": [
    {
     "name": "stdout",
     "output_type": "stream",
     "text": [
      "(2.0, 4.2)\n"
     ]
    }
   ],
   "source": [
    "whiskers = GetWhiskers(df['sepal width (cm)'])\n",
    "print(whiskers)"
   ]
  },
  {
   "cell_type": "code",
   "execution_count": 320,
   "metadata": {},
   "outputs": [
    {
     "name": "stdout",
     "output_type": "stream",
     "text": [
      "[2.8 3.  3.3]\n",
      "0.5 2.05 4.05\n",
      "(2.2, 4.0)\n"
     ]
    }
   ],
   "source": [
    "print(GetWhiskers(X[:,1]))"
   ]
  },
  {
   "cell_type": "code",
   "execution_count": 305,
   "metadata": {},
   "outputs": [
    {
     "data": {
      "text/plain": [
       "(2.0, 4.4)"
      ]
     },
     "execution_count": 305,
     "metadata": {},
     "output_type": "execute_result"
    }
   ],
   "source": [
    "df['sepal width (cm)'].min(), df['sepal width (cm)'].max()"
   ]
  },
  {
   "cell_type": "code",
   "execution_count": 306,
   "metadata": {},
   "outputs": [],
   "source": [
    "df = df[df['sepal width (cm)'] > whiskers[0]]\n",
    "df = df[df['sepal width (cm)'] < whiskers[1]]"
   ]
  },
  {
   "cell_type": "code",
   "execution_count": 307,
   "metadata": {},
   "outputs": [
    {
     "data": {
      "text/plain": [
       "118"
      ]
     },
     "execution_count": 307,
     "metadata": {},
     "output_type": "execute_result"
    }
   ],
   "source": [
    "len(df)"
   ]
  },
  {
   "cell_type": "code",
   "execution_count": 281,
   "metadata": {},
   "outputs": [],
   "source": [
    "#df.loc[df['sepal width (cm)'] < whiskers[0], 'sepal width (cm)'] = whiskers[0]\n",
    "#df.loc[df['sepal width (cm)'] > whiskers[1], 'sepal width (cm)'] = whiskers[1]"
   ]
  },
  {
   "cell_type": "code",
   "execution_count": 282,
   "metadata": {},
   "outputs": [],
   "source": [
    "X_train2 = df[col_names]"
   ]
  },
  {
   "cell_type": "code",
   "execution_count": 283,
   "metadata": {},
   "outputs": [],
   "source": [
    "y_train2 = df['y']"
   ]
  },
  {
   "cell_type": "code",
   "execution_count": 284,
   "metadata": {},
   "outputs": [
    {
     "data": {
      "text/plain": [
       "GaussianNB(priors=None, var_smoothing=1e-09)"
      ]
     },
     "execution_count": 284,
     "metadata": {},
     "output_type": "execute_result"
    }
   ],
   "source": [
    "clr2 = GaussianNB()\n",
    "clr2.fit(X_train2, y_train2)"
   ]
  },
  {
   "cell_type": "code",
   "execution_count": 285,
   "metadata": {},
   "outputs": [
    {
     "name": "stdout",
     "output_type": "stream",
     "text": [
      "[1 1 0 0 2 2 2 0 0 1 0 2 0 2 1 0 1 0 1 2 2 1 0 2 1 2 1 1 1 2]\n"
     ]
    }
   ],
   "source": [
    "y_pred = clr2.predict(X_test)\n",
    "print(y_pred)"
   ]
  },
  {
   "cell_type": "code",
   "execution_count": 286,
   "metadata": {},
   "outputs": [
    {
     "data": {
      "text/plain": [
       "0.9666666666666667"
      ]
     },
     "execution_count": 286,
     "metadata": {},
     "output_type": "execute_result"
    }
   ],
   "source": [
    "accuracy_score(y_test, y_pred)"
   ]
  },
  {
   "cell_type": "code",
   "execution_count": 228,
   "metadata": {},
   "outputs": [],
   "source": [
    "def circ(i):\n",
    "    X_train, X_test, y_train, y_test = train_test_split(X, y, test_size=0.2, random_state=i)\n",
    "    #X_train = np.append(X_train, [[5.4, 0, 1.2, 0.3]], axis=0)\n",
    "    #X_train = np.append(X_train, [[5.3, 0, 1.3,0.2]], axis=0)\n",
    "    #X_train = np.append(X_train, [[5.5, 0, 1.1,0.3]], axis=0)\n",
    "    #y_train = np.append(y_train, [0])\n",
    "    clr = GaussianNB()\n",
    "    #clr = DecisionTreeClassifier(max_depth=2)\n",
    "    clr.fit(X_train, y_train)\n",
    "    y_pred = clr.predict(X_test)\n",
    "    acc1 = accuracy_score(y_test, y_pred)\n",
    "    df = pd.DataFrame(X_train, columns=col_names)\n",
    "    df['y'] = y_train\n",
    "    whiskers = GetWhiskers(df['sepal width (cm)'])\n",
    "    df = df[df['sepal width (cm)'] > whiskers[0]]\n",
    "    df = df[df['sepal width (cm)'] < whiskers[1]]\n",
    "    #df.loc[df['sepal width (cm)'] < whiskers[0], 'sepal width (cm)'] = whiskers[0]\n",
    "    #df.loc[df['sepal width (cm)'] > whiskers[1], 'sepal width (cm)'] = whiskers[1]\n",
    "    X_train2 = df[col_names]\n",
    "    y_train2 = df['y']\n",
    "    clr2 = GaussianNB()\n",
    "    #clr2 = DecisionTreeClassifier(max_depth=2)\n",
    "    clr2.fit(X_train2, y_train2)\n",
    "    y_pred2 = clr2.predict(X_test)\n",
    "    acc2 = accuracy_score(y_test, y_pred2)\n",
    "    return acc1, acc2"
   ]
  },
  {
   "cell_type": "code",
   "execution_count": 230,
   "metadata": {},
   "outputs": [
    {
     "name": "stdout",
     "output_type": "stream",
     "text": [
      "31 (0.9666666666666667, 1.0)\n",
      "36 (0.9333333333333333, 0.9666666666666667)\n",
      "50 (0.9333333333333333, 0.9666666666666667)\n",
      "53 (0.9333333333333333, 0.9666666666666667)\n",
      "78 (0.9333333333333333, 0.9666666666666667)\n",
      "92 (0.9, 0.9333333333333333)\n"
     ]
    }
   ],
   "source": [
    "for i in range(1, 100):\n",
    "    cc = circ(i)\n",
    "    if(cc[1]>cc[0]):\n",
    "        print(i, cc)"
   ]
  },
  {
   "cell_type": "code",
   "execution_count": null,
   "metadata": {},
   "outputs": [],
   "source": []
  }
 ],
 "metadata": {
  "kernelspec": {
   "display_name": "Python 3",
   "language": "python",
   "name": "python3"
  },
  "language_info": {
   "codemirror_mode": {
    "name": "ipython",
    "version": 3
   },
   "file_extension": ".py",
   "mimetype": "text/x-python",
   "name": "python",
   "nbconvert_exporter": "python",
   "pygments_lexer": "ipython3",
   "version": "3.8.8"
  }
 },
 "nbformat": 4,
 "nbformat_minor": 2
}
