{
 "cells": [
  {
   "cell_type": "code",
   "execution_count": 1,
   "metadata": {},
   "outputs": [],
   "source": [
    "import numpy as np\n",
    "import pandas as pd\n",
    "from sklearn.naive_bayes import GaussianNB\n",
    "from sklearn.tree import DecisionTreeClassifier\n",
    "from sklearn import datasets\n",
    "from sklearn.datasets import load_wine\n",
    "from sklearn.model_selection import train_test_split\n",
    "from sklearn.metrics import accuracy_score"
   ]
  },
  {
   "cell_type": "code",
   "execution_count": 2,
   "metadata": {},
   "outputs": [],
   "source": [
    "X, y = load_wine(return_X_y=True)\n",
    "\n",
    "# Make a train/test split using 30% test size\n",
    "X_train, X_test, y_train, y_test = train_test_split(X, y, test_size=0.30, random_state=24)"
   ]
  },
  {
   "cell_type": "code",
   "execution_count": 3,
   "metadata": {},
   "outputs": [],
   "source": [
    "def GetWhiskers(column):\n",
    "    times = 1.5\n",
    "    q1q2q3 = np.quantile(column, [0.25,0.50,0.75])\n",
    "    #print(q1q2q3)\n",
    "    IQR = q1q2q3[2]-q1q2q3[0]\n",
    "    w1 = q1q2q3[0]-times*IQR\n",
    "    w2 = q1q2q3[2]+times*IQR\n",
    "    #print(IQR, w1, w2)\n",
    "    return column[column > w1].min(), column[column < w2].max()"
   ]
  },
  {
   "cell_type": "markdown",
   "metadata": {},
   "source": [
    "Разбиваем данные и целевые переменные на тренеровочные данные и проверочные в соотношении 4/5 (0.2 на проверку). Фиксируем random_state=50"
   ]
  },
  {
   "cell_type": "code",
   "execution_count": 4,
   "metadata": {},
   "outputs": [],
   "source": [
    "from sklearn.pipeline import Pipeline\n",
    "from sklearn.linear_model import LogisticRegression\n",
    "from sklearn.preprocessing import StandardScaler, MinMaxScaler, RobustScaler\n",
    "ppln = Pipeline([(\"scalar\", StandardScaler()),\n",
    "                 (\"estimator\", LogisticRegression(multi_class='auto',solver='liblinear'))])"
   ]
  },
  {
   "cell_type": "code",
   "execution_count": 6,
   "metadata": {},
   "outputs": [
    {
     "data": {
      "text/plain": [
       "0.9814814814814815"
      ]
     },
     "execution_count": 6,
     "metadata": {},
     "output_type": "execute_result"
    }
   ],
   "source": [
    "ppln.fit(X_train, y_train)\n",
    "pred_test = ppln.predict(X_test)\n",
    "accuracy_score(y_test, pred_test)"
   ]
  },
  {
   "cell_type": "code",
   "execution_count": 7,
   "metadata": {},
   "outputs": [],
   "source": [
    "df = pd.DataFrame(X_train)"
   ]
  },
  {
   "cell_type": "code",
   "execution_count": 8,
   "metadata": {},
   "outputs": [],
   "source": [
    "df['y'] = y_train"
   ]
  },
  {
   "cell_type": "code",
   "execution_count": 10,
   "metadata": {},
   "outputs": [],
   "source": [
    "import matplotlib.pyplot as plt"
   ]
  },
  {
   "cell_type": "code",
   "execution_count": 17,
   "metadata": {},
   "outputs": [],
   "source": [
    "train_transform = ppln.steps[0][1].transform(X_train)"
   ]
  },
  {
   "cell_type": "code",
   "execution_count": 20,
   "metadata": {},
   "outputs": [],
   "source": [
    "names = np.array(['Алкоголь','Яблочная кислота','Зола','Щелочность золы','Магнезия','Общее содержание фенолов',\\\n",
    "                  'Флаваноиды', 'Нефлаваноидные фенолы', 'Проантоцианины', 'Интенсивность цвета', 'Оттенок',\\\n",
    "                  'OD280 / OD315 разбавленных (разведенных) вин', 'Пролин'])"
   ]
  },
  {
   "cell_type": "code",
   "execution_count": 36,
   "metadata": {},
   "outputs": [
    {
     "data": {
      "image/png": "[encoded data removed]",
      "text/plain": [
       "<Figure size 432x288 with 1 Axes>"
      ]
     },
     "metadata": {
      "needs_background": "light"
     },
     "output_type": "display_data"
    }
   ],
   "source": [
    "fig, ax = plt.subplots()\n",
    "ax.set_title('All properties')\n",
    "p = ax.boxplot(X_train[:,:12])\n",
    "plt.xticks([1, 2, 3, 4, 5, 6,7,8,9,10,11,12,13], names, rotation='vertical')\n",
    "plt.show()"
   ]
  },
  {
   "cell_type": "code",
   "execution_count": 130,
   "metadata": {},
   "outputs": [
    {
     "name": "stdout",
     "output_type": "stream",
     "text": [
      "(2.0, 4.2)\n"
     ]
    }
   ],
   "source": [
    "whiskers = GetWhiskers(df['sepal width (cm)'])\n",
    "print(whiskers)"
   ]
  },
  {
   "cell_type": "code",
   "execution_count": 131,
   "metadata": {},
   "outputs": [],
   "source": [
    "df = df[df['sepal width (cm)'] > whiskers[0]]\n",
    "df = df[df['sepal width (cm)'] < whiskers[1]]"
   ]
  },
  {
   "cell_type": "code",
   "execution_count": 132,
   "metadata": {},
   "outputs": [],
   "source": [
    "#df.loc[df['sepal width (cm)'] < whiskers[0], 'sepal width (cm)'] = whiskers[0]\n",
    "#df.loc[df['sepal width (cm)'] > whiskers[1], 'sepal width (cm)'] = whiskers[1]"
   ]
  },
  {
   "cell_type": "code",
   "execution_count": 133,
   "metadata": {},
   "outputs": [],
   "source": [
    "X_train2 = df[col_names]"
   ]
  },
  {
   "cell_type": "code",
   "execution_count": 134,
   "metadata": {},
   "outputs": [],
   "source": [
    "y_train2 = df['y']"
   ]
  },
  {
   "cell_type": "code",
   "execution_count": 135,
   "metadata": {},
   "outputs": [
    {
     "data": {
      "text/plain": [
       "GaussianNB(priors=None, var_smoothing=1e-09)"
      ]
     },
     "execution_count": 135,
     "metadata": {},
     "output_type": "execute_result"
    }
   ],
   "source": [
    "clr2 = GaussianNB()\n",
    "clr2.fit(X_train2, y_train2)"
   ]
  },
  {
   "cell_type": "code",
   "execution_count": 136,
   "metadata": {},
   "outputs": [
    {
     "name": "stdout",
     "output_type": "stream",
     "text": [
      "[1 1 0 0 2 2 2 0 0 1 0 2 0 2 1 0 1 0 1 2 2 1 0 2 1 2 1 1 1 2]\n"
     ]
    }
   ],
   "source": [
    "y_pred = clr2.predict(X_test)\n",
    "print(y_pred)"
   ]
  },
  {
   "cell_type": "code",
   "execution_count": 137,
   "metadata": {},
   "outputs": [
    {
     "data": {
      "text/plain": [
       "0.9666666666666667"
      ]
     },
     "execution_count": 137,
     "metadata": {},
     "output_type": "execute_result"
    }
   ],
   "source": [
    "accuracy_score(y_test, y_pred)"
   ]
  },
  {
   "cell_type": "code",
   "execution_count": 138,
   "metadata": {},
   "outputs": [],
   "source": [
    "def circ(i):\n",
    "    X_train, X_test, y_train, y_test = train_test_split(X, y, test_size=0.2, random_state=i)\n",
    "    #X_train = np.append(X_train, [[5.4, 0, 1.2, 0.3]], axis=0)\n",
    "    #X_train = np.append(X_train, [[5.3, 0, 1.3,0.2]], axis=0)\n",
    "    #X_train = np.append(X_train, [[5.5, 0, 1.1,0.3]], axis=0)\n",
    "    #y_train = np.append(y_train, [0])\n",
    "    clr = GaussianNB()\n",
    "    #clr = DecisionTreeClassifier(max_depth=2)\n",
    "    clr.fit(X_train, y_train)\n",
    "    y_pred = clr.predict(X_test)\n",
    "    acc1 = accuracy_score(y_test, y_pred)\n",
    "    df = pd.DataFrame(X_train, columns=col_names)\n",
    "    df['y'] = y_train\n",
    "    whiskers = GetWhiskers(df['sepal width (cm)'])\n",
    "    df = df[df['sepal width (cm)'] > whiskers[0]]\n",
    "    df = df[df['sepal width (cm)'] < whiskers[1]]\n",
    "    #df.loc[df['sepal width (cm)'] < whiskers[0], 'sepal width (cm)'] = whiskers[0]\n",
    "    #df.loc[df['sepal width (cm)'] > whiskers[1], 'sepal width (cm)'] = whiskers[1]\n",
    "    X_train2 = df[col_names]\n",
    "    y_train2 = df['y']\n",
    "    clr2 = GaussianNB()\n",
    "    #clr2 = DecisionTreeClassifier(max_depth=2)\n",
    "    clr2.fit(X_train2, y_train2)\n",
    "    y_pred2 = clr2.predict(X_test)\n",
    "    acc2 = accuracy_score(y_test, y_pred2)\n",
    "    return acc1, acc2"
   ]
  },
  {
   "cell_type": "code",
   "execution_count": 140,
   "metadata": {},
   "outputs": [
    {
     "name": "stdout",
     "output_type": "stream",
     "text": [
      "28 (0.9333333333333333, 0.9)\n"
     ]
    }
   ],
   "source": [
    "for i in range(1, 100):\n",
    "    cc = circ(i)\n",
    "    if(cc[1]<cc[0]):\n",
    "        print(i, cc)"
   ]
  },
  {
   "cell_type": "code",
   "execution_count": null,
   "metadata": {},
   "outputs": [],
   "source": []
  }
 ],
 "metadata": {
  "kernelspec": {
   "display_name": "Python 3 (ipykernel)",
   "language": "python",
   "name": "python3"
  },
  "language_info": {
   "codemirror_mode": {
    "name": "ipython",
    "version": 3
   },
   "file_extension": ".py",
   "mimetype": "text/x-python",
   "name": "python",
   "nbconvert_exporter": "python",
   "pygments_lexer": "ipython3",
   "version": "3.9.2"
  }
 },
 "nbformat": 4,
 "nbformat_minor": 2
}
