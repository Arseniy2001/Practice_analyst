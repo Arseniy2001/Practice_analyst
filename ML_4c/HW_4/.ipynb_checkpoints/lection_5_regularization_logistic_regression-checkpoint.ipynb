{
 "cells": [
  {
   "cell_type": "code",
   "execution_count": 3,
   "metadata": {},
   "outputs": [],
   "source": [
    "import numpy as np\n",
    "from sklearn import datasets\n",
    "from sklearn.model_selection import train_test_split\n",
    "from sklearn.preprocessing import StandardScaler\n",
    "from sklearn.linear_model import LogisticRegression\n",
    "from sklearn.metrics import accuracy_score\n",
    "from plot_region import *"
   ]
  },
  {
   "cell_type": "code",
   "execution_count": 4,
   "metadata": {},
   "outputs": [
    {
     "data": {
      "text/plain": [
       "(569, 30)"
      ]
     },
     "execution_count": 4,
     "metadata": {},
     "output_type": "execute_result"
    }
   ],
   "source": [
    "cancer = datasets.load_breast_cancer()#больше образцов, более зашумленная\n",
    "X = cancer.data\n",
    "y = cancer.target\n",
    "X_train, X_test, y_train, y_test = train_test_split(X, y, test_size=0.3)\n",
    "X.shape"
   ]
  },
  {
   "cell_type": "code",
   "execution_count": 5,
   "metadata": {},
   "outputs": [
    {
     "data": {
      "text/plain": [
       "0.9473684210526315"
      ]
     },
     "execution_count": 5,
     "metadata": {},
     "output_type": "execute_result"
    }
   ],
   "source": [
    "scaler = StandardScaler()\n",
    "X_train_scaled = scaler.fit_transform(X_train)\n",
    "X_test_scaled = scaler.transform(X_test)\n",
    "clfr = LogisticRegression(multi_class='multinomial',solver='lbfgs',max_iter=1000, C=100)\n",
    "clfr.fit(X_train_scaled, y_train) \n",
    "y_pred = clfr.predict(X_test_scaled)\n",
    "accuracy_score(y_test, y_pred)"
   ]
  },
  {
   "cell_type": "code",
   "execution_count": 6,
   "metadata": {},
   "outputs": [
    {
     "data": {
      "text/plain": [
       "array([[ 3.3582796 , -0.57490149,  2.28164557, -0.0941248 ,  0.12687893,\n",
       "         4.98185537, -7.03536028, -3.72228329,  1.43616708, -1.71562742,\n",
       "        -4.66585012,  0.89505528,  1.06249102, -2.21316845, -0.48467699,\n",
       "         0.66757119, -1.22822498, -3.89419351,  3.45034899,  7.4029612 ,\n",
       "        -3.40684724, -2.10396494, -2.87874442, -3.33656197,  0.95497532,\n",
       "         1.54550692,  1.39319064, -1.70082162, -2.99817928, -3.98991065]])"
      ]
     },
     "execution_count": 6,
     "metadata": {},
     "output_type": "execute_result"
    }
   ],
   "source": [
    "np.set_printoptions(suppress=True)\n",
    "clfr.coef_"
   ]
  },
  {
   "cell_type": "code",
   "execution_count": 7,
   "metadata": {},
   "outputs": [
    {
     "data": {
      "text/plain": [
       "array([-0.38225478])"
      ]
     },
     "execution_count": 7,
     "metadata": {},
     "output_type": "execute_result"
    }
   ],
   "source": [
    "clfr.intercept_"
   ]
  },
  {
   "cell_type": "code",
   "execution_count": 8,
   "metadata": {},
   "outputs": [
    {
     "data": {
      "text/plain": [
       "0.9649122807017544"
      ]
     },
     "execution_count": 8,
     "metadata": {},
     "output_type": "execute_result"
    }
   ],
   "source": [
    "clfr2 = LogisticRegression(multi_class='multinomial',solver='lbfgs', C=0.01)\n",
    "clfr2.fit(X_train_scaled, y_train) \n",
    "y_pred2 = clfr2.predict(X_test_scaled)\n",
    "accuracy_score(y_test, y_pred2)"
   ]
  },
  {
   "cell_type": "code",
   "execution_count": 9,
   "metadata": {},
   "outputs": [
    {
     "data": {
      "text/plain": [
       "array([[-0.1257503 , -0.10015321, -0.12379474, -0.11769118, -0.04549903,\n",
       "        -0.04099179, -0.0991076 , -0.13065053, -0.02759318,  0.06022526,\n",
       "        -0.11055701,  0.0083619 , -0.09298755, -0.09450296,  0.00090488,\n",
       "         0.02507511,  0.00831371, -0.0408726 ,  0.02984051,  0.05349615,\n",
       "        -0.1439198 , -0.13107883, -0.13688028, -0.12656433, -0.09327246,\n",
       "        -0.07036681, -0.10155218, -0.14225953, -0.10344433, -0.03970735]])"
      ]
     },
     "execution_count": 9,
     "metadata": {},
     "output_type": "execute_result"
    }
   ],
   "source": [
    "clfr2.coef_"
   ]
  },
  {
   "cell_type": "code",
   "execution_count": 10,
   "metadata": {},
   "outputs": [
    {
     "data": {
      "text/plain": [
       "array([0.30868492])"
      ]
     },
     "execution_count": 10,
     "metadata": {},
     "output_type": "execute_result"
    }
   ],
   "source": [
    "clfr2.intercept_"
   ]
  }
 ],
 "metadata": {
  "kernelspec": {
   "display_name": "Python 3 (ipykernel)",
   "language": "python",
   "name": "python3"
  },
  "language_info": {
   "codemirror_mode": {
    "name": "ipython",
    "version": 3
   },
   "file_extension": ".py",
   "mimetype": "text/x-python",
   "name": "python",
   "nbconvert_exporter": "python",
   "pygments_lexer": "ipython3",
   "version": "3.9.2"
  }
 },
 "nbformat": 4,
 "nbformat_minor": 2
}
