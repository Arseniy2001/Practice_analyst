{
 "cells": [
  {
   "cell_type": "code",
   "execution_count": null,
   "metadata": {},
   "outputs": [],
   "source": [
    "import numpy as np\n",
    "import matplotlib.pyplot as plt\n",
    "import seaborn as sns\n",
    "import image_helper as ih\n",
    "from sklearn.model_selection import GridSearchCV\n",
    "from sklearn.metrics import mean_squared_error"
   ]
  },
  {
   "cell_type": "markdown",
   "metadata": {},
   "source": [
    "Считываем все данные из файлов. Получаем словарь {'Название файла': {цвет:процент,цвет:процент}}. Предполагается что файлы с флагами находятся в папке Flags"
   ]
  },
  {
   "cell_type": "code",
   "execution_count": null,
   "metadata": {},
   "outputs": [],
   "source": [
    "fileDics = ih.GetFileDics()"
   ]
  },
  {
   "cell_type": "markdown",
   "metadata": {},
   "source": [
    "Отбираем коды уникальных цветов (27), формируем матрицу признаков - Х. Заполняем по аналогии с OneHotEncoding. Если в экземпляре присутствует цвет - проставляем процент, который присутствует (в сотых долях - как считалось). Если цвет не присутствует - оставляем 0. Создаем и настраиваем алгоритм кластеризации"
   ]
  },
  {
   "cell_type": "code",
   "execution_count": null,
   "metadata": {},
   "outputs": [],
   "source": [
    "from sklearn.cluster import KMeans, DBSCAN\n",
    "clustering="
   ]
  },
  {
   "cell_type": "markdown",
   "metadata": {},
   "source": [
    "Отображаем получившиеся группы. Для DBSCAN группы groupId начинаются от -1 (группа, в которую попали все неотобранные флаги - шумовые точки) до max+2. Для KMeans от 0 до max+1"
   ]
  },
  {
   "cell_type": "code",
   "execution_count": null,
   "metadata": {},
   "outputs": [],
   "source": [
    "for groupId in range(-1, max(clustering.labels_)+2):\n",
    "    group = np.array(list(fileDics.keys()))[clustering.labels_ == groupId]\n",
    "    ih.PrintGroup(group)"
   ]
  },
  {
   "cell_type": "markdown",
   "metadata": {},
   "source": [
    "<b>Выводы:</b> своими словами как-то прокомментировать..."
   ]
  }
 ],
 "metadata": {
  "kernelspec": {
   "display_name": "Python 3 (ipykernel)",
   "language": "python",
   "name": "python3"
  },
  "language_info": {
   "codemirror_mode": {
    "name": "ipython",
    "version": 3
   },
   "file_extension": ".py",
   "mimetype": "text/x-python",
   "name": "python",
   "nbconvert_exporter": "python",
   "pygments_lexer": "ipython3",
   "version": "3.9.2"
  }
 },
 "nbformat": 4,
 "nbformat_minor": 4
}
