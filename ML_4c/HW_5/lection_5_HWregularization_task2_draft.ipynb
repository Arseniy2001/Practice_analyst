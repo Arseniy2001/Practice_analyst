{
 "cells": [
  {
   "cell_type": "markdown",
   "metadata": {},
   "source": [
    "Номер группы, ФИО: Билецкий АО"
   ]
  },
  {
   "cell_type": "markdown",
   "metadata": {},
   "source": [
    "Загрузить данные о больных, с наличием рака `load_breast_cancer()`. \n",
    "Разбить данные в соотношении 7/3, random_state=12.\n",
    "\n",
    "* Рассмотреть методы из лекции о линейных моделях. Оценить разброс характеристики качества для каждого из методов с параметрами по умолчанию, проведя кросс-валидацию по 5ти блокам на тренировочный выборке.\n",
    "* Выбрать один из методов для дальнейшей работы, демонстрирующий лучшее качество\n",
    "* Подключить недостающие пакеты, выполнить при необходимости дополнительные преобразования\n",
    "* Для выбранного метода подобрать лучшие значения гиперпараметров\n",
    "* Оценить качество настроенного классификатора на тестовой выбоке"
   ]
  },
  {
   "cell_type": "code",
   "execution_count": 128,
   "metadata": {},
   "outputs": [],
   "source": [
    "import numpy as np\n",
    "from sklearn import datasets\n",
    "from sklearn.linear_model import Perceptron\n",
    "from sklearn.linear_model import LogisticRegression, SGDClassifier\n",
    "from sklearn.svm import SVC,LinearSVC\n",
    "from sklearn.model_selection import train_test_split\n",
    "from sklearn.metrics import accuracy_score\n",
    "\n",
    "from sklearn.preprocessing import StandardScaler, MinMaxScaler\n",
    "from sklearn.datasets import load_breast_cancer\n",
    "from sklearn.model_selection import KFold\n",
    "from sklearn.pipeline import Pipeline\n",
    "from sklearn.model_selection import GridSearchCV\n",
    "from plot_region import *"
   ]
  },
  {
   "cell_type": "code",
   "execution_count": 129,
   "metadata": {},
   "outputs": [],
   "source": [
    "dataset = load_breast_cancer()"
   ]
  },
  {
   "cell_type": "code",
   "execution_count": 130,
   "metadata": {},
   "outputs": [],
   "source": [
    "X,y=dataset['data'],dataset['target']"
   ]
  },
  {
   "cell_type": "code",
   "execution_count": 145,
   "metadata": {},
   "outputs": [],
   "source": [
    "X_train, X_test_fin, y_train, y_test_fin= train_test_split(X, y, test_size=0.1, random_state=12)"
   ]
  },
  {
   "cell_type": "code",
   "execution_count": 146,
   "metadata": {},
   "outputs": [],
   "source": [
    "pipe=[]\n",
    "pipe.append(Pipeline(steps=[             ('scaler', StandardScaler()),\n",
    "                                    ('estimator', SVC(kernel='rbf'))])\n",
    "           )\n",
    "\n",
    "pipe.append(Pipeline(steps=[             ('scaler', StandardScaler()),\n",
    "                                    ('estimator', LinearSVC())])\n",
    "           )\n",
    "\n",
    "pipe.append(Pipeline(steps=[             ('scaler', StandardScaler()),\n",
    "                                    ('estimator', SGDClassifier())])\n",
    "           )\n",
    "\n",
    "\n",
    "kfold=KFold(n_splits=5, shuffle=True, random_state=0)"
   ]
  },
  {
   "cell_type": "code",
   "execution_count": 160,
   "metadata": {},
   "outputs": [
    {
     "name": "stdout",
     "output_type": "stream",
     "text": [
      "[0.976, 0.97, 0.968]\n"
     ]
    }
   ],
   "source": [
    "mean = []\n",
    "accuracy=[]  \n",
    "for i in range(3):\n",
    "    for train_index, test_index in kfold.split(X):\n",
    "        X_train, X_test = X[train_index], X[test_index]\n",
    "        y_train, y_test = y[train_index], y[test_index]\n",
    "        pipe[i].fit(X_train, y_train)\n",
    "        y_pred = pipe[i].predict(X_test)\n",
    "        mean.append(accuracy_score(y_test, y_pred).round(2))\n",
    "    accuracy.append(np.array(mean).mean().round(4))\n",
    "\n",
    "print(accuracy)\n"
   ]
  },
  {
   "cell_type": "markdown",
   "metadata": {},
   "source": [
    "Лучший -- SVC"
   ]
  },
  {
   "cell_type": "code",
   "execution_count": 163,
   "metadata": {},
   "outputs": [
    {
     "data": {
      "text/plain": [
       "{'estimator__C': 8.500000000000002, 'estimator__gamma': 0.01}"
      ]
     },
     "execution_count": 163,
     "metadata": {},
     "output_type": "execute_result"
    }
   ],
   "source": [
    "c=np.arange(0.1,10,0.3)\n",
    "gamma=np.arange(0.01,0.5,0.03)\n",
    "param_grid={'estimator__gamma': gamma,'estimator__C': c}\n",
    "grid_search = GridSearchCV(pipe[0], param_grid,cv=kfold)\n",
    "grid_search.fit(X_train, y_train)\n",
    "grid_search.best_params_"
   ]
  },
  {
   "cell_type": "code",
   "execution_count": 157,
   "metadata": {},
   "outputs": [],
   "source": [
    "pipe_fin = Pipeline(steps=[             ('scaler', StandardScaler()),\n",
    "                                    ('estimator', SVC( C=8.5, kernel='rbf', gamma=0.01))])"
   ]
  },
  {
   "cell_type": "code",
   "execution_count": 158,
   "metadata": {},
   "outputs": [
    {
     "name": "stdout",
     "output_type": "stream",
     "text": [
      "[0.978]\n"
     ]
    }
   ],
   "source": [
    "mean = []\n",
    "accuracy=[]  \n",
    "\n",
    "for train_index, test_index in kfold.split(X):\n",
    "    X_train, X_test = X[train_index], X[test_index]\n",
    "    y_train, y_test = y[train_index], y[test_index]\n",
    "    pipe_fin.fit(X_train, y_train)\n",
    "    y_pred = pipe_fin.predict(X_test)\n",
    "    mean.append(accuracy_score(y_test, y_pred).round(2))\n",
    "accuracy.append(np.array(mean).mean().round(4))\n",
    "\n",
    "print(accuracy)"
   ]
  },
  {
   "cell_type": "code",
   "execution_count": 159,
   "metadata": {},
   "outputs": [
    {
     "data": {
      "text/plain": [
       "0.9824561403508771"
      ]
     },
     "execution_count": 159,
     "metadata": {},
     "output_type": "execute_result"
    }
   ],
   "source": [
    "y_pred=pipe_fin.predict(X_test_fin) \n",
    "accuracy_score(y_test_fin,y_pred)"
   ]
  },
  {
   "cell_type": "code",
   "execution_count": null,
   "metadata": {},
   "outputs": [],
   "source": []
  },
  {
   "cell_type": "code",
   "execution_count": null,
   "metadata": {},
   "outputs": [],
   "source": []
  }
 ],
 "metadata": {
  "kernelspec": {
   "display_name": "Python 3 (ipykernel)",
   "language": "python",
   "name": "python3"
  },
  "language_info": {
   "codemirror_mode": {
    "name": "ipython",
    "version": 3
   },
   "file_extension": ".py",
   "mimetype": "text/x-python",
   "name": "python",
   "nbconvert_exporter": "python",
   "pygments_lexer": "ipython3",
   "version": "3.9.2"
  }
 },
 "nbformat": 4,
 "nbformat_minor": 2
}
