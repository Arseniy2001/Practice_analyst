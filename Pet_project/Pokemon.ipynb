{
 "cells": [
  {
   "cell_type": "markdown",
   "id": "11b44ac7",
   "metadata": {},
   "source": [
    "# Покемон"
   ]
  },
  {
   "cell_type": "markdown",
   "id": "178a12f9",
   "metadata": {},
   "source": [
    "Ход работы:\n",
    "1. Обзор даннных\n",
    "2. Предобработка данных \n",
    "3. Анализ данных\n",
    "    \n"
   ]
  },
  {
   "cell_type": "markdown",
   "id": "24afea09",
   "metadata": {},
   "source": [
    "Вопросы:\n",
    "* Какой тип покемонов обладает наибольшей защитой? \n",
    "* Какие пары типов (Type 1 и Type 2) встречаются чаще всего?\n",
    "* Правда ли, что сумма всех очков (Total) легендарных покемонов больше чем у обычных\n",
    "* Покемоны 1-го поколения имеют самый низкий процент легендарных покемонов среди всех поколений, так ли это?\n",
    "* Говорят, что быстрые воины имеет слабую защиту"
   ]
  },
  {
   "cell_type": "code",
   "execution_count": 3,
   "id": "df138825",
   "metadata": {},
   "outputs": [],
   "source": [
    "import pandas as pd\n",
    "import matplotlib.pyplot as plt\n",
    "\n",
    "import warnings\n",
    "warnings.filterwarnings(action='ignore')"
   ]
  },
  {
   "cell_type": "markdown",
   "id": "77bc6312",
   "metadata": {},
   "source": [
    "## Обзор данных"
   ]
  },
  {
   "cell_type": "code",
   "execution_count": 4,
   "id": "5b5edc84",
   "metadata": {},
   "outputs": [
    {
     "data": {
      "text/html": [
       "<div>\n",
       "<style scoped>\n",
       "    .dataframe tbody tr th:only-of-type {\n",
       "        vertical-align: middle;\n",
       "    }\n",
       "\n",
       "    .dataframe tbody tr th {\n",
       "        vertical-align: top;\n",
       "    }\n",
       "\n",
       "    .dataframe thead th {\n",
       "        text-align: right;\n",
       "    }\n",
       "</style>\n",
       "<table border=\"1\" class=\"dataframe\">\n",
       "  <thead>\n",
       "    <tr style=\"text-align: right;\">\n",
       "      <th></th>\n",
       "      <th>#</th>\n",
       "      <th>Name</th>\n",
       "      <th>Type 1</th>\n",
       "      <th>Type 2</th>\n",
       "      <th>Total</th>\n",
       "      <th>HP</th>\n",
       "      <th>Attack</th>\n",
       "      <th>Defense</th>\n",
       "      <th>Sp. Atk</th>\n",
       "      <th>Sp. Def</th>\n",
       "      <th>Speed</th>\n",
       "      <th>Generation</th>\n",
       "      <th>Legendary</th>\n",
       "    </tr>\n",
       "  </thead>\n",
       "  <tbody>\n",
       "    <tr>\n",
       "      <th>0</th>\n",
       "      <td>1</td>\n",
       "      <td>Bulbasaur</td>\n",
       "      <td>Grass</td>\n",
       "      <td>Poison</td>\n",
       "      <td>318</td>\n",
       "      <td>45</td>\n",
       "      <td>49</td>\n",
       "      <td>49</td>\n",
       "      <td>65</td>\n",
       "      <td>65</td>\n",
       "      <td>45</td>\n",
       "      <td>1</td>\n",
       "      <td>False</td>\n",
       "    </tr>\n",
       "    <tr>\n",
       "      <th>1</th>\n",
       "      <td>2</td>\n",
       "      <td>Ivysaur</td>\n",
       "      <td>Grass</td>\n",
       "      <td>Poison</td>\n",
       "      <td>405</td>\n",
       "      <td>60</td>\n",
       "      <td>62</td>\n",
       "      <td>63</td>\n",
       "      <td>80</td>\n",
       "      <td>80</td>\n",
       "      <td>60</td>\n",
       "      <td>1</td>\n",
       "      <td>False</td>\n",
       "    </tr>\n",
       "    <tr>\n",
       "      <th>2</th>\n",
       "      <td>3</td>\n",
       "      <td>Venusaur</td>\n",
       "      <td>Grass</td>\n",
       "      <td>Poison</td>\n",
       "      <td>525</td>\n",
       "      <td>80</td>\n",
       "      <td>82</td>\n",
       "      <td>83</td>\n",
       "      <td>100</td>\n",
       "      <td>100</td>\n",
       "      <td>80</td>\n",
       "      <td>1</td>\n",
       "      <td>False</td>\n",
       "    </tr>\n",
       "    <tr>\n",
       "      <th>3</th>\n",
       "      <td>3</td>\n",
       "      <td>VenusaurMega Venusaur</td>\n",
       "      <td>Grass</td>\n",
       "      <td>Poison</td>\n",
       "      <td>625</td>\n",
       "      <td>80</td>\n",
       "      <td>100</td>\n",
       "      <td>123</td>\n",
       "      <td>122</td>\n",
       "      <td>120</td>\n",
       "      <td>80</td>\n",
       "      <td>1</td>\n",
       "      <td>False</td>\n",
       "    </tr>\n",
       "    <tr>\n",
       "      <th>4</th>\n",
       "      <td>4</td>\n",
       "      <td>Charmander</td>\n",
       "      <td>Fire</td>\n",
       "      <td>NaN</td>\n",
       "      <td>309</td>\n",
       "      <td>39</td>\n",
       "      <td>52</td>\n",
       "      <td>43</td>\n",
       "      <td>60</td>\n",
       "      <td>50</td>\n",
       "      <td>65</td>\n",
       "      <td>1</td>\n",
       "      <td>False</td>\n",
       "    </tr>\n",
       "  </tbody>\n",
       "</table>\n",
       "</div>"
      ],
      "text/plain": [
       "   #                   Name Type 1  Type 2  Total  HP  Attack  Defense  \\\n",
       "0  1              Bulbasaur  Grass  Poison    318  45      49       49   \n",
       "1  2                Ivysaur  Grass  Poison    405  60      62       63   \n",
       "2  3               Venusaur  Grass  Poison    525  80      82       83   \n",
       "3  3  VenusaurMega Venusaur  Grass  Poison    625  80     100      123   \n",
       "4  4             Charmander   Fire     NaN    309  39      52       43   \n",
       "\n",
       "   Sp. Atk  Sp. Def  Speed  Generation  Legendary  \n",
       "0       65       65     45           1      False  \n",
       "1       80       80     60           1      False  \n",
       "2      100      100     80           1      False  \n",
       "3      122      120     80           1      False  \n",
       "4       60       50     65           1      False  "
      ]
     },
     "execution_count": 4,
     "metadata": {},
     "output_type": "execute_result"
    }
   ],
   "source": [
    "df=pd.read_csv('Pokemon.csv')\n",
    "df.head()"
   ]
  },
  {
   "cell_type": "markdown",
   "id": "223735d4",
   "metadata": {},
   "source": [
    "* `#:` - ID for each pokemon\n",
    "* `Name:` - Name of each pokemon\n",
    "* `Type 1:` - Each pokemon has a type, this determines weakness/resistance to attacks\n",
    "* `Type 2:` - Some pokemon are dual type and have 2\n",
    "* `Total:` - sum of all stats that come after this, a general guide to how strong a pokemon is\n",
    "* `HP:` - hit points, or health, defines how much damage a pokemon can withstand before fainting\n",
    "* `Attack:` - the base modifier for normal attacks (eg. Scratch, Punch)\n",
    "* `Defense:` - the base damage resistance against normal attacks\n",
    "* `SP Atk:` - special attack, the base modifier for special attacks (e.g. fire blast, bubble beam)\n",
    "* `SP Def:` - the base damage resistance against special attacks\n",
    "* `Speed:` - determines which pokemon attacks first each round\n",
    "* `Generation`- Each generation introduces a set of new Pokemon\n",
    "* `Legendary`- True/False"
   ]
  },
  {
   "cell_type": "code",
   "execution_count": 5,
   "id": "b2d84cdd",
   "metadata": {},
   "outputs": [
    {
     "data": {
      "text/plain": [
       "Index(['#', 'name', 'type 1', 'type 2', 'total', 'hp', 'attack', 'defense',\n",
       "       'sp. atk', 'sp. def', 'speed', 'generation', 'legendary'],\n",
       "      dtype='object')"
      ]
     },
     "execution_count": 5,
     "metadata": {},
     "output_type": "execute_result"
    }
   ],
   "source": [
    "df.columns.str.lower()"
   ]
  },
  {
   "cell_type": "code",
   "execution_count": 6,
   "id": "f8de7dc5",
   "metadata": {
    "scrolled": true
   },
   "outputs": [
    {
     "name": "stdout",
     "output_type": "stream",
     "text": [
      "<class 'pandas.core.frame.DataFrame'>\n",
      "RangeIndex: 800 entries, 0 to 799\n",
      "Data columns (total 13 columns):\n",
      " #   Column      Non-Null Count  Dtype \n",
      "---  ------      --------------  ----- \n",
      " 0   #           800 non-null    int64 \n",
      " 1   Name        800 non-null    object\n",
      " 2   Type 1      800 non-null    object\n",
      " 3   Type 2      414 non-null    object\n",
      " 4   Total       800 non-null    int64 \n",
      " 5   HP          800 non-null    int64 \n",
      " 6   Attack      800 non-null    int64 \n",
      " 7   Defense     800 non-null    int64 \n",
      " 8   Sp. Atk     800 non-null    int64 \n",
      " 9   Sp. Def     800 non-null    int64 \n",
      " 10  Speed       800 non-null    int64 \n",
      " 11  Generation  800 non-null    int64 \n",
      " 12  Legendary   800 non-null    bool  \n",
      "dtypes: bool(1), int64(9), object(3)\n",
      "memory usage: 75.9+ KB\n"
     ]
    }
   ],
   "source": [
    "df.info()"
   ]
  },
  {
   "cell_type": "markdown",
   "id": "eeb40bbe",
   "metadata": {},
   "source": [
    "## Предобработка данных"
   ]
  },
  {
   "cell_type": "markdown",
   "id": "77595016",
   "metadata": {},
   "source": [
    "### Пропуски значений"
   ]
  },
  {
   "cell_type": "markdown",
   "id": "a00a7dac",
   "metadata": {},
   "source": [
    "В столбце 'Type 2' есть пустые значения, но в данном случае это нормально, так как не все покемоны обладают вторым типом"
   ]
  },
  {
   "cell_type": "markdown",
   "id": "9aeb4b5b",
   "metadata": {},
   "source": [
    "### Выбросы"
   ]
  },
  {
   "cell_type": "markdown",
   "id": "7e439aa4",
   "metadata": {},
   "source": [
    "Проверим данные на наличие выбросов "
   ]
  },
  {
   "cell_type": "code",
   "execution_count": 7,
   "id": "b82f49e5",
   "metadata": {},
   "outputs": [
    {
     "data": {
      "text/html": [
       "<div>\n",
       "<style scoped>\n",
       "    .dataframe tbody tr th:only-of-type {\n",
       "        vertical-align: middle;\n",
       "    }\n",
       "\n",
       "    .dataframe tbody tr th {\n",
       "        vertical-align: top;\n",
       "    }\n",
       "\n",
       "    .dataframe thead th {\n",
       "        text-align: right;\n",
       "    }\n",
       "</style>\n",
       "<table border=\"1\" class=\"dataframe\">\n",
       "  <thead>\n",
       "    <tr style=\"text-align: right;\">\n",
       "      <th></th>\n",
       "      <th>#</th>\n",
       "      <th>Total</th>\n",
       "      <th>HP</th>\n",
       "      <th>Attack</th>\n",
       "      <th>Defense</th>\n",
       "      <th>Sp. Atk</th>\n",
       "      <th>Sp. Def</th>\n",
       "      <th>Speed</th>\n",
       "      <th>Generation</th>\n",
       "    </tr>\n",
       "  </thead>\n",
       "  <tbody>\n",
       "    <tr>\n",
       "      <th>count</th>\n",
       "      <td>800.000000</td>\n",
       "      <td>800.00000</td>\n",
       "      <td>800.000000</td>\n",
       "      <td>800.000000</td>\n",
       "      <td>800.000000</td>\n",
       "      <td>800.000000</td>\n",
       "      <td>800.000000</td>\n",
       "      <td>800.000000</td>\n",
       "      <td>800.00000</td>\n",
       "    </tr>\n",
       "    <tr>\n",
       "      <th>mean</th>\n",
       "      <td>362.813750</td>\n",
       "      <td>435.10250</td>\n",
       "      <td>69.258750</td>\n",
       "      <td>79.001250</td>\n",
       "      <td>73.842500</td>\n",
       "      <td>72.820000</td>\n",
       "      <td>71.902500</td>\n",
       "      <td>68.277500</td>\n",
       "      <td>3.32375</td>\n",
       "    </tr>\n",
       "    <tr>\n",
       "      <th>std</th>\n",
       "      <td>208.343798</td>\n",
       "      <td>119.96304</td>\n",
       "      <td>25.534669</td>\n",
       "      <td>32.457366</td>\n",
       "      <td>31.183501</td>\n",
       "      <td>32.722294</td>\n",
       "      <td>27.828916</td>\n",
       "      <td>29.060474</td>\n",
       "      <td>1.66129</td>\n",
       "    </tr>\n",
       "    <tr>\n",
       "      <th>min</th>\n",
       "      <td>1.000000</td>\n",
       "      <td>180.00000</td>\n",
       "      <td>1.000000</td>\n",
       "      <td>5.000000</td>\n",
       "      <td>5.000000</td>\n",
       "      <td>10.000000</td>\n",
       "      <td>20.000000</td>\n",
       "      <td>5.000000</td>\n",
       "      <td>1.00000</td>\n",
       "    </tr>\n",
       "    <tr>\n",
       "      <th>25%</th>\n",
       "      <td>184.750000</td>\n",
       "      <td>330.00000</td>\n",
       "      <td>50.000000</td>\n",
       "      <td>55.000000</td>\n",
       "      <td>50.000000</td>\n",
       "      <td>49.750000</td>\n",
       "      <td>50.000000</td>\n",
       "      <td>45.000000</td>\n",
       "      <td>2.00000</td>\n",
       "    </tr>\n",
       "    <tr>\n",
       "      <th>50%</th>\n",
       "      <td>364.500000</td>\n",
       "      <td>450.00000</td>\n",
       "      <td>65.000000</td>\n",
       "      <td>75.000000</td>\n",
       "      <td>70.000000</td>\n",
       "      <td>65.000000</td>\n",
       "      <td>70.000000</td>\n",
       "      <td>65.000000</td>\n",
       "      <td>3.00000</td>\n",
       "    </tr>\n",
       "    <tr>\n",
       "      <th>75%</th>\n",
       "      <td>539.250000</td>\n",
       "      <td>515.00000</td>\n",
       "      <td>80.000000</td>\n",
       "      <td>100.000000</td>\n",
       "      <td>90.000000</td>\n",
       "      <td>95.000000</td>\n",
       "      <td>90.000000</td>\n",
       "      <td>90.000000</td>\n",
       "      <td>5.00000</td>\n",
       "    </tr>\n",
       "    <tr>\n",
       "      <th>max</th>\n",
       "      <td>721.000000</td>\n",
       "      <td>780.00000</td>\n",
       "      <td>255.000000</td>\n",
       "      <td>190.000000</td>\n",
       "      <td>230.000000</td>\n",
       "      <td>194.000000</td>\n",
       "      <td>230.000000</td>\n",
       "      <td>180.000000</td>\n",
       "      <td>6.00000</td>\n",
       "    </tr>\n",
       "  </tbody>\n",
       "</table>\n",
       "</div>"
      ],
      "text/plain": [
       "                #      Total          HP      Attack     Defense     Sp. Atk  \\\n",
       "count  800.000000  800.00000  800.000000  800.000000  800.000000  800.000000   \n",
       "mean   362.813750  435.10250   69.258750   79.001250   73.842500   72.820000   \n",
       "std    208.343798  119.96304   25.534669   32.457366   31.183501   32.722294   \n",
       "min      1.000000  180.00000    1.000000    5.000000    5.000000   10.000000   \n",
       "25%    184.750000  330.00000   50.000000   55.000000   50.000000   49.750000   \n",
       "50%    364.500000  450.00000   65.000000   75.000000   70.000000   65.000000   \n",
       "75%    539.250000  515.00000   80.000000  100.000000   90.000000   95.000000   \n",
       "max    721.000000  780.00000  255.000000  190.000000  230.000000  194.000000   \n",
       "\n",
       "          Sp. Def       Speed  Generation  \n",
       "count  800.000000  800.000000   800.00000  \n",
       "mean    71.902500   68.277500     3.32375  \n",
       "std     27.828916   29.060474     1.66129  \n",
       "min     20.000000    5.000000     1.00000  \n",
       "25%     50.000000   45.000000     2.00000  \n",
       "50%     70.000000   65.000000     3.00000  \n",
       "75%     90.000000   90.000000     5.00000  \n",
       "max    230.000000  180.000000     6.00000  "
      ]
     },
     "execution_count": 7,
     "metadata": {},
     "output_type": "execute_result"
    }
   ],
   "source": [
    "df.describe()"
   ]
  },
  {
   "cell_type": "code",
   "execution_count": 8,
   "id": "23dc20e2",
   "metadata": {
    "scrolled": true
   },
   "outputs": [
    {
     "data": {
      "image/png": "[encoded data removed]",
      "text/plain": [
       "<Figure size 640x480 with 1 Axes>"
      ]
     },
     "metadata": {},
     "output_type": "display_data"
    },
    {
     "data": {
      "image/png": "[encoded data removed]",
      "text/plain": [
       "<Figure size 640x480 with 1 Axes>"
      ]
     },
     "metadata": {},
     "output_type": "display_data"
    },
    {
     "data": {
      "image/png": "[encoded data removed]",
      "text/plain": [
       "<Figure size 640x480 with 1 Axes>"
      ]
     },
     "metadata": {},
     "output_type": "display_data"
    },
    {
     "data": {
      "image/png": "[encoded data removed]",
      "text/plain": [
       "<Figure size 640x480 with 1 Axes>"
      ]
     },
     "metadata": {},
     "output_type": "display_data"
    },
    {
     "data": {
      "image/png": "[encoded data removed]",
      "text/plain": [
       "<Figure size 640x480 with 1 Axes>"
      ]
     },
     "metadata": {},
     "output_type": "display_data"
    },
    {
     "data": {
      "image/png": "[encoded data removed]",
      "text/plain": [
       "<Figure size 640x480 with 1 Axes>"
      ]
     },
     "metadata": {},
     "output_type": "display_data"
    },
    {
     "data": {
      "image/png": "[encoded data removed]",
      "text/plain": [
       "<Figure size 640x480 with 1 Axes>"
      ]
     },
     "metadata": {},
     "output_type": "display_data"
    },
    {
     "data": {
      "image/png": "[encoded data removed]",
      "text/plain": [
       "<Figure size 640x480 with 1 Axes>"
      ]
     },
     "metadata": {},
     "output_type": "display_data"
    }
   ],
   "source": [
    "for i in ['Total','HP','Attack','Defense','Sp. Atk','Sp. Def','Speed','Generation']:\n",
    "    fig, ax = plt.subplots()\n",
    "    ax.boxplot(df[i])\n",
    "    ax.set_title(i)\n",
    "    plt.show()"
   ]
  },
  {
   "cell_type": "markdown",
   "id": "d13667dd",
   "metadata": {},
   "source": [
    "В некоторых признаках имеются большие значения, однако это нормально в силу того, что некоторые покемоны облодают особой редкостью с большими показателями. В данном случае гланое то, что нет слишким больших значений. "
   ]
  },
  {
   "cell_type": "markdown",
   "id": "97276d39",
   "metadata": {},
   "source": [
    "### Поиск дубликатов"
   ]
  },
  {
   "cell_type": "code",
   "execution_count": 9,
   "id": "3829a6fe",
   "metadata": {},
   "outputs": [
    {
     "data": {
      "text/plain": [
       "0"
      ]
     },
     "execution_count": 9,
     "metadata": {},
     "output_type": "execute_result"
    }
   ],
   "source": [
    "df.duplicated().sum()"
   ]
  },
  {
   "cell_type": "markdown",
   "id": "eb36f9a1",
   "metadata": {},
   "source": [
    "### Удаление ненужных столбцов"
   ]
  },
  {
   "cell_type": "code",
   "execution_count": 10,
   "id": "09d5e791",
   "metadata": {},
   "outputs": [],
   "source": [
    "del df['#']"
   ]
  },
  {
   "cell_type": "markdown",
   "id": "ade24307",
   "metadata": {},
   "source": [
    "## Анализ данных"
   ]
  },
  {
   "cell_type": "markdown",
   "id": "d51df8c3",
   "metadata": {},
   "source": [
    "    1) Какой тип покемонов обладает наибольшей защитой?"
   ]
  },
  {
   "cell_type": "code",
   "execution_count": 11,
   "id": "a41df1eb",
   "metadata": {
    "scrolled": true
   },
   "outputs": [
    {
     "data": {
      "text/html": [
       "<div>\n",
       "<style scoped>\n",
       "    .dataframe tbody tr th:only-of-type {\n",
       "        vertical-align: middle;\n",
       "    }\n",
       "\n",
       "    .dataframe tbody tr th {\n",
       "        vertical-align: top;\n",
       "    }\n",
       "\n",
       "    .dataframe thead th {\n",
       "        text-align: right;\n",
       "    }\n",
       "</style>\n",
       "<table border=\"1\" class=\"dataframe\">\n",
       "  <thead>\n",
       "    <tr style=\"text-align: right;\">\n",
       "      <th></th>\n",
       "      <th>Type 1</th>\n",
       "      <th>Defense</th>\n",
       "    </tr>\n",
       "  </thead>\n",
       "  <tbody>\n",
       "    <tr>\n",
       "      <th>0</th>\n",
       "      <td>Steel</td>\n",
       "      <td>126.37037</td>\n",
       "    </tr>\n",
       "  </tbody>\n",
       "</table>\n",
       "</div>"
      ],
      "text/plain": [
       "  Type 1    Defense\n",
       "0  Steel  126.37037"
      ]
     },
     "execution_count": 11,
     "metadata": {},
     "output_type": "execute_result"
    }
   ],
   "source": [
    "df.groupby('Type 1').mean()['Defense'].nlargest(1).reset_index()"
   ]
  },
  {
   "cell_type": "code",
   "execution_count": 23,
   "id": "4ca37f7d",
   "metadata": {},
   "outputs": [
    {
     "data": {
      "image/png": "[encoded data removed]",
      "text/plain": [
       "<Figure size 640x480 with 1 Axes>"
      ]
     },
     "metadata": {},
     "output_type": "display_data"
    }
   ],
   "source": [
    "df_by_type1_ = df.groupby('Type 1').agg('mean')['Defense'].sort_values()\n",
    "df_by_type1_.plot(kind='bar',grid=True)\n",
    "plt.ylabel('Defense')\n",
    "plt.show()"
   ]
  },
  {
   "cell_type": "markdown",
   "id": "1133b810",
   "metadata": {},
   "source": [
    "    2) Какие пары типов (Type 1 и Type 2) встречаются чаще всего?"
   ]
  },
  {
   "cell_type": "code",
   "execution_count": 13,
   "id": "54e665c6",
   "metadata": {
    "scrolled": false
   },
   "outputs": [
    {
     "data": {
      "text/html": [
       "<div>\n",
       "<style scoped>\n",
       "    .dataframe tbody tr th:only-of-type {\n",
       "        vertical-align: middle;\n",
       "    }\n",
       "\n",
       "    .dataframe tbody tr th {\n",
       "        vertical-align: top;\n",
       "    }\n",
       "\n",
       "    .dataframe thead th {\n",
       "        text-align: right;\n",
       "    }\n",
       "</style>\n",
       "<table border=\"1\" class=\"dataframe\">\n",
       "  <thead>\n",
       "    <tr style=\"text-align: right;\">\n",
       "      <th></th>\n",
       "      <th>Type 1</th>\n",
       "      <th>Type 2</th>\n",
       "      <th>Name</th>\n",
       "    </tr>\n",
       "  </thead>\n",
       "  <tbody>\n",
       "    <tr>\n",
       "      <th>0</th>\n",
       "      <td>Normal</td>\n",
       "      <td>Flying</td>\n",
       "      <td>24</td>\n",
       "    </tr>\n",
       "    <tr>\n",
       "      <th>1</th>\n",
       "      <td>Grass</td>\n",
       "      <td>Poison</td>\n",
       "      <td>15</td>\n",
       "    </tr>\n",
       "    <tr>\n",
       "      <th>2</th>\n",
       "      <td>Bug</td>\n",
       "      <td>Flying</td>\n",
       "      <td>14</td>\n",
       "    </tr>\n",
       "    <tr>\n",
       "      <th>3</th>\n",
       "      <td>Bug</td>\n",
       "      <td>Poison</td>\n",
       "      <td>12</td>\n",
       "    </tr>\n",
       "    <tr>\n",
       "      <th>4</th>\n",
       "      <td>Ghost</td>\n",
       "      <td>Grass</td>\n",
       "      <td>10</td>\n",
       "    </tr>\n",
       "    <tr>\n",
       "      <th>...</th>\n",
       "      <td>...</td>\n",
       "      <td>...</td>\n",
       "      <td>...</td>\n",
       "    </tr>\n",
       "    <tr>\n",
       "      <th>131</th>\n",
       "      <td>Fire</td>\n",
       "      <td>Rock</td>\n",
       "      <td>1</td>\n",
       "    </tr>\n",
       "    <tr>\n",
       "      <th>132</th>\n",
       "      <td>Ice</td>\n",
       "      <td>Ghost</td>\n",
       "      <td>1</td>\n",
       "    </tr>\n",
       "    <tr>\n",
       "      <th>133</th>\n",
       "      <td>Fire</td>\n",
       "      <td>Dragon</td>\n",
       "      <td>1</td>\n",
       "    </tr>\n",
       "    <tr>\n",
       "      <th>134</th>\n",
       "      <td>Fighting</td>\n",
       "      <td>Flying</td>\n",
       "      <td>1</td>\n",
       "    </tr>\n",
       "    <tr>\n",
       "      <th>135</th>\n",
       "      <td>Water</td>\n",
       "      <td>Steel</td>\n",
       "      <td>1</td>\n",
       "    </tr>\n",
       "  </tbody>\n",
       "</table>\n",
       "<p>136 rows × 3 columns</p>\n",
       "</div>"
      ],
      "text/plain": [
       "       Type 1  Type 2  Name\n",
       "0      Normal  Flying    24\n",
       "1       Grass  Poison    15\n",
       "2         Bug  Flying    14\n",
       "3         Bug  Poison    12\n",
       "4       Ghost   Grass    10\n",
       "..        ...     ...   ...\n",
       "131      Fire    Rock     1\n",
       "132       Ice   Ghost     1\n",
       "133      Fire  Dragon     1\n",
       "134  Fighting  Flying     1\n",
       "135     Water   Steel     1\n",
       "\n",
       "[136 rows x 3 columns]"
      ]
     },
     "execution_count": 13,
     "metadata": {},
     "output_type": "execute_result"
    }
   ],
   "source": [
    "df.groupby(['Type 1' ,'Type 2']).count()['Name'].sort_values(ascending=False).reset_index()"
   ]
  },
  {
   "cell_type": "markdown",
   "id": "2bc92db0",
   "metadata": {},
   "source": [
    "    3) Правда ли что значение очков (Total) легендарных покемонов больше чем у обычных?\n",
    "    \n",
    "    "
   ]
  },
  {
   "cell_type": "markdown",
   "id": "51e4baec",
   "metadata": {},
   "source": [
    "Так как нам известен весь набор покемонов, то ошибка выборки отсутствует. Нет смысла проводить тесты, достаточно будет сравнить средние или медианы "
   ]
  },
  {
   "cell_type": "code",
   "execution_count": 14,
   "id": "44793d12",
   "metadata": {},
   "outputs": [
    {
     "name": "stdout",
     "output_type": "stream",
     "text": [
      "mean:  637.3846153846154\n",
      "median:  600.0\n"
     ]
    }
   ],
   "source": [
    "print('mean: ',df[df['Legendary']==True]['Total'].mean())\n",
    "print('median: ',df[df['Legendary']==True]['Total'].median())"
   ]
  },
  {
   "cell_type": "code",
   "execution_count": 15,
   "id": "cdd25c7e",
   "metadata": {
    "scrolled": true
   },
   "outputs": [
    {
     "name": "stdout",
     "output_type": "stream",
     "text": [
      "mean:  417.21360544217686\n",
      "median:  425.0\n"
     ]
    }
   ],
   "source": [
    "print('mean: ',df[df['Legendary']==False]['Total'].mean())\n",
    "print('median: ',df[df['Legendary']==False]['Total'].median())"
   ]
  },
  {
   "cell_type": "code",
   "execution_count": 16,
   "id": "13104969",
   "metadata": {},
   "outputs": [
    {
     "data": {
      "text/plain": [
       "<Axes: xlabel='Legendary'>"
      ]
     },
     "execution_count": 16,
     "metadata": {},
     "output_type": "execute_result"
    },
    {
     "data": {
      "image/png": "[encoded data removed]",
      "text/plain": [
       "<Figure size 640x480 with 1 Axes>"
      ]
     },
     "metadata": {},
     "output_type": "display_data"
    }
   ],
   "source": [
    "df_by_Legendary = df.groupby('Legendary').agg('mean')[['Total']].sort_values(by='Total')\n",
    "df_by_Legendary.plot(kind='bar',stacked=True)"
   ]
  },
  {
   "cell_type": "markdown",
   "id": "163e7142",
   "metadata": {},
   "source": [
    "    4) Покемоны 1-го поколения имеют самый низкий процент легендарных покемонов среди всех поколений."
   ]
  },
  {
   "cell_type": "code",
   "execution_count": 17,
   "id": "b4e9aedb",
   "metadata": {
    "scrolled": true
   },
   "outputs": [
    {
     "data": {
      "text/plain": [
       "Generation\n",
       "1     3.614458\n",
       "2     4.716981\n",
       "3    11.250000\n",
       "4    10.743802\n",
       "5     9.090909\n",
       "6     9.756098\n",
       "Name: Name, dtype: float64"
      ]
     },
     "execution_count": 17,
     "metadata": {},
     "output_type": "execute_result"
    }
   ],
   "source": [
    "df[df['Legendary']==True].groupby('Generation').count()['Name']/(df.groupby('Generation').count()['Name'])*100"
   ]
  },
  {
   "cell_type": "code",
   "execution_count": 18,
   "id": "a56b652a",
   "metadata": {},
   "outputs": [
    {
     "data": {
      "text/plain": [
       "<Axes: xlabel='Generation'>"
      ]
     },
     "execution_count": 18,
     "metadata": {},
     "output_type": "execute_result"
    },
    {
     "data": {
      "image/png": "[encoded data removed]",
      "text/plain": [
       "<Figure size 640x480 with 1 Axes>"
      ]
     },
     "metadata": {},
     "output_type": "display_data"
    }
   ],
   "source": [
    "df_by_generation = df.groupby('Generation').agg('mean')[['Total']].sort_values(by='Generation')\n",
    "df_by_generation.plot(kind='bar',stacked=True,grid=True)\n"
   ]
  },
  {
   "cell_type": "markdown",
   "id": "ec1c3a92",
   "metadata": {},
   "source": [
    "### Говорят, что быстрые воины имеет слабую защиту "
   ]
  },
  {
   "cell_type": "markdown",
   "id": "52d89fc6",
   "metadata": {},
   "source": [
    "Проверим это, посчитав корреляцию между `Defense` и `Speed`"
   ]
  },
  {
   "cell_type": "code",
   "execution_count": 25,
   "id": "7bdf20c8",
   "metadata": {},
   "outputs": [
    {
     "data": {
      "text/html": [
       "<style type=\"text/css\">\n",
       "#T_20550_row0_col0 {\n",
       "  background-color: #3f93c2;\n",
       "  color: #f1f1f1;\n",
       "}\n",
       "#T_20550_row0_col1 {\n",
       "  background-color: #4a98c5;\n",
       "  color: #f1f1f1;\n",
       "}\n",
       "#T_20550_row1_col0 {\n",
       "  background-color: #d5d5e8;\n",
       "  color: #000000;\n",
       "}\n",
       "#T_20550_row1_col1 {\n",
       "  background-color: #dddbec;\n",
       "  color: #000000;\n",
       "}\n",
       "#T_20550_row2_col0 {\n",
       "  background-color: #8fb4d6;\n",
       "  color: #000000;\n",
       "}\n",
       "#T_20550_row2_col1 {\n",
       "  background-color: #9ebad9;\n",
       "  color: #000000;\n",
       "}\n",
       "#T_20550_row3_col0, #T_20550_row6_col1 {\n",
       "  background-color: #023858;\n",
       "  color: #f1f1f1;\n",
       "}\n",
       "#T_20550_row3_col1 {\n",
       "  background-color: #faf2f8;\n",
       "  color: #000000;\n",
       "}\n",
       "#T_20550_row4_col0 {\n",
       "  background-color: #d9d8ea;\n",
       "  color: #000000;\n",
       "}\n",
       "#T_20550_row4_col1 {\n",
       "  background-color: #79abd0;\n",
       "  color: #f1f1f1;\n",
       "}\n",
       "#T_20550_row5_col0 {\n",
       "  background-color: #73a9cf;\n",
       "  color: #f1f1f1;\n",
       "}\n",
       "#T_20550_row5_col1 {\n",
       "  background-color: #c8cde4;\n",
       "  color: #000000;\n",
       "}\n",
       "#T_20550_row6_col0, #T_20550_row7_col1 {\n",
       "  background-color: #fff7fb;\n",
       "  color: #000000;\n",
       "}\n",
       "#T_20550_row7_col0 {\n",
       "  background-color: #fbf3f9;\n",
       "  color: #000000;\n",
       "}\n",
       "#T_20550_row8_col0 {\n",
       "  background-color: #d3d4e7;\n",
       "  color: #000000;\n",
       "}\n",
       "#T_20550_row8_col1 {\n",
       "  background-color: #b1c2de;\n",
       "  color: #000000;\n",
       "}\n",
       "</style>\n",
       "<table id=\"T_20550\">\n",
       "  <thead>\n",
       "    <tr>\n",
       "      <th class=\"blank level0\" >&nbsp;</th>\n",
       "      <th id=\"T_20550_level0_col0\" class=\"col_heading level0 col0\" >Defense</th>\n",
       "      <th id=\"T_20550_level0_col1\" class=\"col_heading level0 col1\" >Speed</th>\n",
       "    </tr>\n",
       "  </thead>\n",
       "  <tbody>\n",
       "    <tr>\n",
       "      <th id=\"T_20550_level0_row0\" class=\"row_heading level0 row0\" >Total</th>\n",
       "      <td id=\"T_20550_row0_col0\" class=\"data row0 col0\" >0.612787</td>\n",
       "      <td id=\"T_20550_row0_col1\" class=\"data row0 col1\" >0.575943</td>\n",
       "    </tr>\n",
       "    <tr>\n",
       "      <th id=\"T_20550_level0_row1\" class=\"row_heading level0 row1\" >HP</th>\n",
       "      <td id=\"T_20550_row1_col0\" class=\"data row1 col0\" >0.239622</td>\n",
       "      <td id=\"T_20550_row1_col1\" class=\"data row1 col1\" >0.175952</td>\n",
       "    </tr>\n",
       "    <tr>\n",
       "      <th id=\"T_20550_level0_row2\" class=\"row_heading level0 row2\" >Attack</th>\n",
       "      <td id=\"T_20550_row2_col0\" class=\"data row2 col0\" >0.438687</td>\n",
       "      <td id=\"T_20550_row2_col1\" class=\"data row2 col1\" >0.381240</td>\n",
       "    </tr>\n",
       "    <tr>\n",
       "      <th id=\"T_20550_level0_row3\" class=\"row_heading level0 row3\" >Defense</th>\n",
       "      <td id=\"T_20550_row3_col0\" class=\"data row3 col0\" >1.000000</td>\n",
       "      <td id=\"T_20550_row3_col1\" class=\"data row3 col1\" >0.015227</td>\n",
       "    </tr>\n",
       "    <tr>\n",
       "      <th id=\"T_20550_level0_row4\" class=\"row_heading level0 row4\" >Sp. Atk</th>\n",
       "      <td id=\"T_20550_row4_col0\" class=\"data row4 col0\" >0.223549</td>\n",
       "      <td id=\"T_20550_row4_col1\" class=\"data row4 col1\" >0.473018</td>\n",
       "    </tr>\n",
       "    <tr>\n",
       "      <th id=\"T_20550_level0_row5\" class=\"row_heading level0 row5\" >Sp. Def</th>\n",
       "      <td id=\"T_20550_row5_col0\" class=\"data row5 col0\" >0.510747</td>\n",
       "      <td id=\"T_20550_row5_col1\" class=\"data row5 col1\" >0.259133</td>\n",
       "    </tr>\n",
       "    <tr>\n",
       "      <th id=\"T_20550_level0_row6\" class=\"row_heading level0 row6\" >Speed</th>\n",
       "      <td id=\"T_20550_row6_col0\" class=\"data row6 col0\" >0.015227</td>\n",
       "      <td id=\"T_20550_row6_col1\" class=\"data row6 col1\" >1.000000</td>\n",
       "    </tr>\n",
       "    <tr>\n",
       "      <th id=\"T_20550_level0_row7\" class=\"row_heading level0 row7\" >Generation</th>\n",
       "      <td id=\"T_20550_row7_col0\" class=\"data row7 col0\" >0.042419</td>\n",
       "      <td id=\"T_20550_row7_col1\" class=\"data row7 col1\" >-0.023121</td>\n",
       "    </tr>\n",
       "    <tr>\n",
       "      <th id=\"T_20550_level0_row8\" class=\"row_heading level0 row8\" >Legendary</th>\n",
       "      <td id=\"T_20550_row8_col0\" class=\"data row8 col0\" >0.246377</td>\n",
       "      <td id=\"T_20550_row8_col1\" class=\"data row8 col1\" >0.326715</td>\n",
       "    </tr>\n",
       "  </tbody>\n",
       "</table>\n"
      ],
      "text/plain": [
       "<pandas.io.formats.style.Styler at 0x7fc68bea3d00>"
      ]
     },
     "execution_count": 25,
     "metadata": {},
     "output_type": "execute_result"
    }
   ],
   "source": [
    "df.corr()[['Defense','Speed']].style.background_gradient(axis=0)"
   ]
  },
  {
   "cell_type": "markdown",
   "id": "a54165f5",
   "metadata": {},
   "source": [
    "Нет, корреляция в случае покемонов очень слабая"
   ]
  },
  {
   "cell_type": "code",
   "execution_count": null,
   "id": "acb4ba15",
   "metadata": {},
   "outputs": [],
   "source": []
  }
 ],
 "metadata": {
  "kernelspec": {
   "display_name": "Python 3 (ipykernel)",
   "language": "python",
   "name": "python3"
  },
  "language_info": {
   "codemirror_mode": {
    "name": "ipython",
    "version": 3
   },
   "file_extension": ".py",
   "mimetype": "text/x-python",
   "name": "python",
   "nbconvert_exporter": "python",
   "pygments_lexer": "ipython3",
   "version": "3.9.2"
  }
 },
 "nbformat": 4,
 "nbformat_minor": 5
}
