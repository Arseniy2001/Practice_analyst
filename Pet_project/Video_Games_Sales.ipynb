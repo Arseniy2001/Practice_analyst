{
 "cells": [
  {
   "cell_type": "markdown",
   "id": "c027bdb4",
   "metadata": {},
   "source": [
    "## Video Games Sales"
   ]
  },
  {
   "cell_type": "markdown",
   "id": "554eb219",
   "metadata": {},
   "source": [
    "### Описание:\n",
    "В тбалице представлены данные о прадажах видео игр\n",
    "* `Name` - Name of the game\n",
    "* `Platform` - Console on which the game is running\n",
    "* `Year_of_Release` - Year of the game released\n",
    "* `Genre` - Game's category\n",
    "* `Publisher` - Publisher\n",
    "* `NA_Sales` - Game sales in North America (in millions of units)\n",
    "* `EU_Sales` - Game sales in the European Union (in millions of units)\n",
    "* `JP_Sales` - Game sales in Japan (in millions of units)\n",
    "* `Other_Sales` - Game sales in the rest of the world, i.e. Africa, Asia excluding Japan, Australia, Europe excluding the E.U. and \n",
    "* `Global_Sales` - Total sales in the world (in millions of units)\n",
    "* `Critic_Score` - Aggregate score compiled by Metacritic staff\n",
    "* `Critic_Count`- The number of critics used in coming up with the \n",
    "* `User_Score`- Score by Metacritic's subscribers\n",
    "* `User_Count`- Number of users who gave the user_score\n",
    "* `Developer`- Party responsible for creating the game\n",
    "* `Rating`- The ESRB ratings"
   ]
  },
  {
   "cell_type": "markdown",
   "id": "32b2e866",
   "metadata": {},
   "source": [
    "## Цель работы --  проверка следующих гипотез :\n",
    "* Игры, выпущенные на консолях Sony, продаются лучше, чем игры, выпущенные на консолях Xbox\n",
    "* Игры в жанре экшн продаются лучше, чем игры в других жанрах\n",
    "* В Японии и в Европе предпочитают разные жанры игр. В Японии больше играют в ролевые игры, в Европе в экшен \n",
    "* Игры с более высокими оценками критиков продаются лучше, чем игры с более низкими оценками критиков\n",
    "\n"
   ]
  },
  {
   "cell_type": "markdown",
   "id": "2495ec3b",
   "metadata": {},
   "source": [
    "## Ход работы:\n",
    "* Обзор данных\n",
    "* Предобработка данных\n",
    "* Анализ данных\n",
    "* Проверка гипотез "
   ]
  },
  {
   "cell_type": "code",
   "execution_count": 2,
   "id": "7973a656",
   "metadata": {},
   "outputs": [],
   "source": [
    "import pandas as pd\n",
    "import seaborn as sns\n",
    "import matplotlib.pyplot as plt\n",
    "import numpy as np\n",
    "from scipy.stats import ttest_ind,mannwhitneyu\n",
    "import warnings \n",
    "warnings.filterwarnings(action='ignore')"
   ]
  },
  {
   "cell_type": "code",
   "execution_count": 3,
   "id": "787a235c",
   "metadata": {
    "scrolled": false
   },
   "outputs": [
    {
     "data": {
      "text/html": [
       "<div>\n",
       "<style scoped>\n",
       "    .dataframe tbody tr th:only-of-type {\n",
       "        vertical-align: middle;\n",
       "    }\n",
       "\n",
       "    .dataframe tbody tr th {\n",
       "        vertical-align: top;\n",
       "    }\n",
       "\n",
       "    .dataframe thead th {\n",
       "        text-align: right;\n",
       "    }\n",
       "</style>\n",
       "<table border=\"1\" class=\"dataframe\">\n",
       "  <thead>\n",
       "    <tr style=\"text-align: right;\">\n",
       "      <th></th>\n",
       "      <th>Name</th>\n",
       "      <th>Platform</th>\n",
       "      <th>Year_of_Release</th>\n",
       "      <th>Genre</th>\n",
       "      <th>Publisher</th>\n",
       "      <th>NA_Sales</th>\n",
       "      <th>EU_Sales</th>\n",
       "      <th>JP_Sales</th>\n",
       "      <th>Other_Sales</th>\n",
       "      <th>Global_Sales</th>\n",
       "      <th>Critic_Score</th>\n",
       "      <th>Critic_Count</th>\n",
       "      <th>User_Score</th>\n",
       "      <th>User_Count</th>\n",
       "      <th>Developer</th>\n",
       "      <th>Rating</th>\n",
       "    </tr>\n",
       "  </thead>\n",
       "  <tbody>\n",
       "    <tr>\n",
       "      <th>6107</th>\n",
       "      <td>Netsu Chu! Pro Yakyuu 2003</td>\n",
       "      <td>PS2</td>\n",
       "      <td>2003.0</td>\n",
       "      <td>Sports</td>\n",
       "      <td>Namco Bandai Games</td>\n",
       "      <td>0.00</td>\n",
       "      <td>0.00</td>\n",
       "      <td>0.28</td>\n",
       "      <td>0.00</td>\n",
       "      <td>0.28</td>\n",
       "      <td>NaN</td>\n",
       "      <td>NaN</td>\n",
       "      <td>NaN</td>\n",
       "      <td>NaN</td>\n",
       "      <td>NaN</td>\n",
       "      <td>NaN</td>\n",
       "    </tr>\n",
       "    <tr>\n",
       "      <th>10218</th>\n",
       "      <td>Winter Stars</td>\n",
       "      <td>Wii</td>\n",
       "      <td>2011.0</td>\n",
       "      <td>Sports</td>\n",
       "      <td>Deep Silver</td>\n",
       "      <td>0.05</td>\n",
       "      <td>0.05</td>\n",
       "      <td>0.00</td>\n",
       "      <td>0.01</td>\n",
       "      <td>0.11</td>\n",
       "      <td>NaN</td>\n",
       "      <td>NaN</td>\n",
       "      <td>tbd</td>\n",
       "      <td>NaN</td>\n",
       "      <td>49Games</td>\n",
       "      <td>E</td>\n",
       "    </tr>\n",
       "    <tr>\n",
       "      <th>1911</th>\n",
       "      <td>Plants vs. Zombies: Garden Warfare</td>\n",
       "      <td>X360</td>\n",
       "      <td>2014.0</td>\n",
       "      <td>Shooter</td>\n",
       "      <td>Electronic Arts</td>\n",
       "      <td>0.51</td>\n",
       "      <td>0.47</td>\n",
       "      <td>0.00</td>\n",
       "      <td>0.09</td>\n",
       "      <td>1.08</td>\n",
       "      <td>69.0</td>\n",
       "      <td>6.0</td>\n",
       "      <td>7.3</td>\n",
       "      <td>121.0</td>\n",
       "      <td>PopCap</td>\n",
       "      <td>E10+</td>\n",
       "    </tr>\n",
       "    <tr>\n",
       "      <th>8865</th>\n",
       "      <td>Petz: Dogz Talent Show</td>\n",
       "      <td>DS</td>\n",
       "      <td>2009.0</td>\n",
       "      <td>Simulation</td>\n",
       "      <td>Ubisoft</td>\n",
       "      <td>0.14</td>\n",
       "      <td>0.00</td>\n",
       "      <td>0.00</td>\n",
       "      <td>0.01</td>\n",
       "      <td>0.15</td>\n",
       "      <td>NaN</td>\n",
       "      <td>NaN</td>\n",
       "      <td>tbd</td>\n",
       "      <td>NaN</td>\n",
       "      <td>Ubisoft Nagoya</td>\n",
       "      <td>E</td>\n",
       "    </tr>\n",
       "    <tr>\n",
       "      <th>12024</th>\n",
       "      <td>Moxie Girlz</td>\n",
       "      <td>DS</td>\n",
       "      <td>2011.0</td>\n",
       "      <td>Misc</td>\n",
       "      <td>GameMill Entertainment</td>\n",
       "      <td>0.07</td>\n",
       "      <td>0.00</td>\n",
       "      <td>0.00</td>\n",
       "      <td>0.00</td>\n",
       "      <td>0.07</td>\n",
       "      <td>NaN</td>\n",
       "      <td>NaN</td>\n",
       "      <td>tbd</td>\n",
       "      <td>NaN</td>\n",
       "      <td>1st Playable Productions</td>\n",
       "      <td>E</td>\n",
       "    </tr>\n",
       "  </tbody>\n",
       "</table>\n",
       "</div>"
      ],
      "text/plain": [
       "                                     Name Platform  Year_of_Release  \\\n",
       "6107           Netsu Chu! Pro Yakyuu 2003      PS2           2003.0   \n",
       "10218                        Winter Stars      Wii           2011.0   \n",
       "1911   Plants vs. Zombies: Garden Warfare     X360           2014.0   \n",
       "8865               Petz: Dogz Talent Show       DS           2009.0   \n",
       "12024                         Moxie Girlz       DS           2011.0   \n",
       "\n",
       "            Genre               Publisher  NA_Sales  EU_Sales  JP_Sales  \\\n",
       "6107       Sports      Namco Bandai Games      0.00      0.00      0.28   \n",
       "10218      Sports             Deep Silver      0.05      0.05      0.00   \n",
       "1911      Shooter         Electronic Arts      0.51      0.47      0.00   \n",
       "8865   Simulation                 Ubisoft      0.14      0.00      0.00   \n",
       "12024        Misc  GameMill Entertainment      0.07      0.00      0.00   \n",
       "\n",
       "       Other_Sales  Global_Sales  Critic_Score  Critic_Count User_Score  \\\n",
       "6107          0.00          0.28           NaN           NaN        NaN   \n",
       "10218         0.01          0.11           NaN           NaN        tbd   \n",
       "1911          0.09          1.08          69.0           6.0        7.3   \n",
       "8865          0.01          0.15           NaN           NaN        tbd   \n",
       "12024         0.00          0.07           NaN           NaN        tbd   \n",
       "\n",
       "       User_Count                 Developer Rating  \n",
       "6107          NaN                       NaN    NaN  \n",
       "10218         NaN                   49Games      E  \n",
       "1911        121.0                    PopCap   E10+  \n",
       "8865          NaN            Ubisoft Nagoya      E  \n",
       "12024         NaN  1st Playable Productions      E  "
      ]
     },
     "execution_count": 3,
     "metadata": {},
     "output_type": "execute_result"
    }
   ],
   "source": [
    "df = pd.read_csv('Video_Games_Sales_as_at_22_Dec_2016.csv')\n",
    "df.sample(5)"
   ]
  },
  {
   "cell_type": "markdown",
   "id": "8963e8c1",
   "metadata": {},
   "source": [
    "### Приведем все буквы в названиях  столбцов в строчные"
   ]
  },
  {
   "cell_type": "code",
   "execution_count": 4,
   "id": "76eb3c3b",
   "metadata": {},
   "outputs": [
    {
     "data": {
      "text/plain": [
       "Index(['name', 'platform', 'year_of_release', 'genre', 'publisher', 'na_sales',\n",
       "       'eu_sales', 'jp_sales', 'other_sales', 'global_sales', 'critic_score',\n",
       "       'critic_count', 'user_score', 'user_count', 'developer', 'rating'],\n",
       "      dtype='object')"
      ]
     },
     "execution_count": 4,
     "metadata": {},
     "output_type": "execute_result"
    }
   ],
   "source": [
    "df = df.rename(columns=dict(zip(df.columns, list([x.lower() for x in df.columns]))))\n",
    "df.columns"
   ]
  },
  {
   "cell_type": "code",
   "execution_count": 5,
   "id": "45a0337c",
   "metadata": {
    "scrolled": true
   },
   "outputs": [
    {
     "data": {
      "text/html": [
       "<div>\n",
       "<style scoped>\n",
       "    .dataframe tbody tr th:only-of-type {\n",
       "        vertical-align: middle;\n",
       "    }\n",
       "\n",
       "    .dataframe tbody tr th {\n",
       "        vertical-align: top;\n",
       "    }\n",
       "\n",
       "    .dataframe thead th {\n",
       "        text-align: right;\n",
       "    }\n",
       "</style>\n",
       "<table border=\"1\" class=\"dataframe\">\n",
       "  <thead>\n",
       "    <tr style=\"text-align: right;\">\n",
       "      <th></th>\n",
       "      <th>year_of_release</th>\n",
       "      <th>na_sales</th>\n",
       "      <th>eu_sales</th>\n",
       "      <th>jp_sales</th>\n",
       "      <th>other_sales</th>\n",
       "      <th>global_sales</th>\n",
       "      <th>critic_score</th>\n",
       "      <th>critic_count</th>\n",
       "      <th>user_count</th>\n",
       "    </tr>\n",
       "  </thead>\n",
       "  <tbody>\n",
       "    <tr>\n",
       "      <th>count</th>\n",
       "      <td>16450.000000</td>\n",
       "      <td>16719.000000</td>\n",
       "      <td>16719.000000</td>\n",
       "      <td>16719.000000</td>\n",
       "      <td>16719.000000</td>\n",
       "      <td>16719.000000</td>\n",
       "      <td>8137.000000</td>\n",
       "      <td>8137.000000</td>\n",
       "      <td>7590.000000</td>\n",
       "    </tr>\n",
       "    <tr>\n",
       "      <th>mean</th>\n",
       "      <td>2006.487356</td>\n",
       "      <td>0.263330</td>\n",
       "      <td>0.145025</td>\n",
       "      <td>0.077602</td>\n",
       "      <td>0.047332</td>\n",
       "      <td>0.533543</td>\n",
       "      <td>68.967679</td>\n",
       "      <td>26.360821</td>\n",
       "      <td>162.229908</td>\n",
       "    </tr>\n",
       "    <tr>\n",
       "      <th>std</th>\n",
       "      <td>5.878995</td>\n",
       "      <td>0.813514</td>\n",
       "      <td>0.503283</td>\n",
       "      <td>0.308818</td>\n",
       "      <td>0.186710</td>\n",
       "      <td>1.547935</td>\n",
       "      <td>13.938165</td>\n",
       "      <td>18.980495</td>\n",
       "      <td>561.282326</td>\n",
       "    </tr>\n",
       "    <tr>\n",
       "      <th>min</th>\n",
       "      <td>1980.000000</td>\n",
       "      <td>0.000000</td>\n",
       "      <td>0.000000</td>\n",
       "      <td>0.000000</td>\n",
       "      <td>0.000000</td>\n",
       "      <td>0.010000</td>\n",
       "      <td>13.000000</td>\n",
       "      <td>3.000000</td>\n",
       "      <td>4.000000</td>\n",
       "    </tr>\n",
       "    <tr>\n",
       "      <th>25%</th>\n",
       "      <td>2003.000000</td>\n",
       "      <td>0.000000</td>\n",
       "      <td>0.000000</td>\n",
       "      <td>0.000000</td>\n",
       "      <td>0.000000</td>\n",
       "      <td>0.060000</td>\n",
       "      <td>60.000000</td>\n",
       "      <td>12.000000</td>\n",
       "      <td>10.000000</td>\n",
       "    </tr>\n",
       "    <tr>\n",
       "      <th>50%</th>\n",
       "      <td>2007.000000</td>\n",
       "      <td>0.080000</td>\n",
       "      <td>0.020000</td>\n",
       "      <td>0.000000</td>\n",
       "      <td>0.010000</td>\n",
       "      <td>0.170000</td>\n",
       "      <td>71.000000</td>\n",
       "      <td>21.000000</td>\n",
       "      <td>24.000000</td>\n",
       "    </tr>\n",
       "    <tr>\n",
       "      <th>75%</th>\n",
       "      <td>2010.000000</td>\n",
       "      <td>0.240000</td>\n",
       "      <td>0.110000</td>\n",
       "      <td>0.040000</td>\n",
       "      <td>0.030000</td>\n",
       "      <td>0.470000</td>\n",
       "      <td>79.000000</td>\n",
       "      <td>36.000000</td>\n",
       "      <td>81.000000</td>\n",
       "    </tr>\n",
       "    <tr>\n",
       "      <th>max</th>\n",
       "      <td>2020.000000</td>\n",
       "      <td>41.360000</td>\n",
       "      <td>28.960000</td>\n",
       "      <td>10.220000</td>\n",
       "      <td>10.570000</td>\n",
       "      <td>82.530000</td>\n",
       "      <td>98.000000</td>\n",
       "      <td>113.000000</td>\n",
       "      <td>10665.000000</td>\n",
       "    </tr>\n",
       "  </tbody>\n",
       "</table>\n",
       "</div>"
      ],
      "text/plain": [
       "       year_of_release      na_sales      eu_sales      jp_sales  \\\n",
       "count     16450.000000  16719.000000  16719.000000  16719.000000   \n",
       "mean       2006.487356      0.263330      0.145025      0.077602   \n",
       "std           5.878995      0.813514      0.503283      0.308818   \n",
       "min        1980.000000      0.000000      0.000000      0.000000   \n",
       "25%        2003.000000      0.000000      0.000000      0.000000   \n",
       "50%        2007.000000      0.080000      0.020000      0.000000   \n",
       "75%        2010.000000      0.240000      0.110000      0.040000   \n",
       "max        2020.000000     41.360000     28.960000     10.220000   \n",
       "\n",
       "        other_sales  global_sales  critic_score  critic_count    user_count  \n",
       "count  16719.000000  16719.000000   8137.000000   8137.000000   7590.000000  \n",
       "mean       0.047332      0.533543     68.967679     26.360821    162.229908  \n",
       "std        0.186710      1.547935     13.938165     18.980495    561.282326  \n",
       "min        0.000000      0.010000     13.000000      3.000000      4.000000  \n",
       "25%        0.000000      0.060000     60.000000     12.000000     10.000000  \n",
       "50%        0.010000      0.170000     71.000000     21.000000     24.000000  \n",
       "75%        0.030000      0.470000     79.000000     36.000000     81.000000  \n",
       "max       10.570000     82.530000     98.000000    113.000000  10665.000000  "
      ]
     },
     "execution_count": 5,
     "metadata": {},
     "output_type": "execute_result"
    }
   ],
   "source": [
    "df.describe()"
   ]
  },
  {
   "cell_type": "markdown",
   "id": "384abd06",
   "metadata": {},
   "source": [
    "### Удаление пустых значений "
   ]
  },
  {
   "cell_type": "code",
   "execution_count": 6,
   "id": "6d57ce06",
   "metadata": {
    "scrolled": true
   },
   "outputs": [
    {
     "name": "stdout",
     "output_type": "stream",
     "text": [
      "<class 'pandas.core.frame.DataFrame'>\n",
      "RangeIndex: 16719 entries, 0 to 16718\n",
      "Data columns (total 16 columns):\n",
      " #   Column           Non-Null Count  Dtype  \n",
      "---  ------           --------------  -----  \n",
      " 0   name             16717 non-null  object \n",
      " 1   platform         16719 non-null  object \n",
      " 2   year_of_release  16450 non-null  float64\n",
      " 3   genre            16717 non-null  object \n",
      " 4   publisher        16665 non-null  object \n",
      " 5   na_sales         16719 non-null  float64\n",
      " 6   eu_sales         16719 non-null  float64\n",
      " 7   jp_sales         16719 non-null  float64\n",
      " 8   other_sales      16719 non-null  float64\n",
      " 9   global_sales     16719 non-null  float64\n",
      " 10  critic_score     8137 non-null   float64\n",
      " 11  critic_count     8137 non-null   float64\n",
      " 12  user_score       10015 non-null  object \n",
      " 13  user_count       7590 non-null   float64\n",
      " 14  developer        10096 non-null  object \n",
      " 15  rating           9950 non-null   object \n",
      "dtypes: float64(9), object(7)\n",
      "memory usage: 2.0+ MB\n"
     ]
    }
   ],
   "source": [
    "df.info()"
   ]
  },
  {
   "cell_type": "code",
   "execution_count": 7,
   "id": "2d7649c6",
   "metadata": {
    "scrolled": true
   },
   "outputs": [
    {
     "data": {
      "text/plain": [
       "name                  2\n",
       "platform              0\n",
       "year_of_release     269\n",
       "genre                 2\n",
       "publisher            54\n",
       "na_sales              0\n",
       "eu_sales              0\n",
       "jp_sales              0\n",
       "other_sales           0\n",
       "global_sales          0\n",
       "critic_score       8582\n",
       "critic_count       8582\n",
       "user_score         6704\n",
       "user_count         9129\n",
       "developer          6623\n",
       "rating             6769\n",
       "dtype: int64"
      ]
     },
     "execution_count": 7,
     "metadata": {},
     "output_type": "execute_result"
    }
   ],
   "source": [
    "df.isna().sum()"
   ]
  },
  {
   "cell_type": "code",
   "execution_count": 8,
   "id": "996ee125",
   "metadata": {
    "scrolled": true
   },
   "outputs": [
    {
     "data": {
      "text/plain": [
       "0"
      ]
     },
     "execution_count": 8,
     "metadata": {},
     "output_type": "execute_result"
    }
   ],
   "source": [
    "df.duplicated().sum()"
   ]
  },
  {
   "cell_type": "code",
   "execution_count": 9,
   "id": "15ed0b3d",
   "metadata": {},
   "outputs": [
    {
     "data": {
      "text/html": [
       "<div>\n",
       "<style scoped>\n",
       "    .dataframe tbody tr th:only-of-type {\n",
       "        vertical-align: middle;\n",
       "    }\n",
       "\n",
       "    .dataframe tbody tr th {\n",
       "        vertical-align: top;\n",
       "    }\n",
       "\n",
       "    .dataframe thead th {\n",
       "        text-align: right;\n",
       "    }\n",
       "</style>\n",
       "<table border=\"1\" class=\"dataframe\">\n",
       "  <thead>\n",
       "    <tr style=\"text-align: right;\">\n",
       "      <th></th>\n",
       "      <th>name</th>\n",
       "      <th>platform</th>\n",
       "      <th>year_of_release</th>\n",
       "      <th>genre</th>\n",
       "      <th>publisher</th>\n",
       "      <th>na_sales</th>\n",
       "      <th>eu_sales</th>\n",
       "      <th>jp_sales</th>\n",
       "      <th>other_sales</th>\n",
       "      <th>global_sales</th>\n",
       "      <th>critic_score</th>\n",
       "      <th>critic_count</th>\n",
       "      <th>user_score</th>\n",
       "      <th>user_count</th>\n",
       "      <th>developer</th>\n",
       "      <th>rating</th>\n",
       "    </tr>\n",
       "  </thead>\n",
       "  <tbody>\n",
       "    <tr>\n",
       "      <th>604</th>\n",
       "      <td>Madden NFL 13</td>\n",
       "      <td>PS3</td>\n",
       "      <td>2012.0</td>\n",
       "      <td>Sports</td>\n",
       "      <td>Electronic Arts</td>\n",
       "      <td>2.11</td>\n",
       "      <td>0.22</td>\n",
       "      <td>0.00</td>\n",
       "      <td>0.23</td>\n",
       "      <td>2.56</td>\n",
       "      <td>83.0</td>\n",
       "      <td>22.0</td>\n",
       "      <td>5.5</td>\n",
       "      <td>101.0</td>\n",
       "      <td>EA Tiburon</td>\n",
       "      <td>E</td>\n",
       "    </tr>\n",
       "    <tr>\n",
       "      <th>659</th>\n",
       "      <td>NaN</td>\n",
       "      <td>GEN</td>\n",
       "      <td>1993.0</td>\n",
       "      <td>NaN</td>\n",
       "      <td>Acclaim Entertainment</td>\n",
       "      <td>1.78</td>\n",
       "      <td>0.53</td>\n",
       "      <td>0.00</td>\n",
       "      <td>0.08</td>\n",
       "      <td>2.39</td>\n",
       "      <td>NaN</td>\n",
       "      <td>NaN</td>\n",
       "      <td>NaN</td>\n",
       "      <td>NaN</td>\n",
       "      <td>NaN</td>\n",
       "      <td>NaN</td>\n",
       "    </tr>\n",
       "    <tr>\n",
       "      <th>14246</th>\n",
       "      <td>NaN</td>\n",
       "      <td>GEN</td>\n",
       "      <td>1993.0</td>\n",
       "      <td>NaN</td>\n",
       "      <td>Acclaim Entertainment</td>\n",
       "      <td>0.00</td>\n",
       "      <td>0.00</td>\n",
       "      <td>0.03</td>\n",
       "      <td>0.00</td>\n",
       "      <td>0.03</td>\n",
       "      <td>NaN</td>\n",
       "      <td>NaN</td>\n",
       "      <td>NaN</td>\n",
       "      <td>NaN</td>\n",
       "      <td>NaN</td>\n",
       "      <td>NaN</td>\n",
       "    </tr>\n",
       "    <tr>\n",
       "      <th>16233</th>\n",
       "      <td>Madden NFL 13</td>\n",
       "      <td>PS3</td>\n",
       "      <td>2012.0</td>\n",
       "      <td>Sports</td>\n",
       "      <td>Electronic Arts</td>\n",
       "      <td>0.00</td>\n",
       "      <td>0.01</td>\n",
       "      <td>0.00</td>\n",
       "      <td>0.00</td>\n",
       "      <td>0.01</td>\n",
       "      <td>83.0</td>\n",
       "      <td>22.0</td>\n",
       "      <td>5.5</td>\n",
       "      <td>101.0</td>\n",
       "      <td>EA Tiburon</td>\n",
       "      <td>E</td>\n",
       "    </tr>\n",
       "  </tbody>\n",
       "</table>\n",
       "</div>"
      ],
      "text/plain": [
       "                name platform  year_of_release   genre              publisher  \\\n",
       "604    Madden NFL 13      PS3           2012.0  Sports        Electronic Arts   \n",
       "659              NaN      GEN           1993.0     NaN  Acclaim Entertainment   \n",
       "14246            NaN      GEN           1993.0     NaN  Acclaim Entertainment   \n",
       "16233  Madden NFL 13      PS3           2012.0  Sports        Electronic Arts   \n",
       "\n",
       "       na_sales  eu_sales  jp_sales  other_sales  global_sales  critic_score  \\\n",
       "604        2.11      0.22      0.00         0.23          2.56          83.0   \n",
       "659        1.78      0.53      0.00         0.08          2.39           NaN   \n",
       "14246      0.00      0.00      0.03         0.00          0.03           NaN   \n",
       "16233      0.00      0.01      0.00         0.00          0.01          83.0   \n",
       "\n",
       "       critic_count user_score  user_count   developer rating  \n",
       "604            22.0        5.5       101.0  EA Tiburon      E  \n",
       "659             NaN        NaN         NaN         NaN    NaN  \n",
       "14246           NaN        NaN         NaN         NaN    NaN  \n",
       "16233          22.0        5.5       101.0  EA Tiburon      E  "
      ]
     },
     "metadata": {},
     "output_type": "display_data"
    }
   ],
   "source": [
    "display(df.loc[df.duplicated(subset=['name', 'platform', 'year_of_release'], keep=False)])\n",
    "df = df.drop_duplicates(subset=['name', 'platform', 'year_of_release'], keep='first')  "
   ]
  },
  {
   "cell_type": "markdown",
   "id": "31495548",
   "metadata": {},
   "source": [
    "Для доказательства первых трех гипотез нам нужны столбцы:\n",
    "* Genre \n",
    "* NA_Sales              \n",
    "* EU_Sales\n",
    "* JP_Sales\n",
    "* Global_Sales\n",
    "\n",
    "Как видно, у этих столбцов немного пропущенных значений. Удалим строки с пропущенными значениями из данных "
   ]
  },
  {
   "cell_type": "code",
   "execution_count": 10,
   "id": "456518ef",
   "metadata": {
    "scrolled": false
   },
   "outputs": [
    {
     "data": {
      "text/plain": [
       "name                  0\n",
       "platform              0\n",
       "year_of_release     269\n",
       "genre                 0\n",
       "publisher            54\n",
       "na_sales              0\n",
       "eu_sales              0\n",
       "jp_sales              0\n",
       "other_sales           0\n",
       "global_sales          0\n",
       "critic_score       8580\n",
       "critic_count       8580\n",
       "user_score         6702\n",
       "user_count         9127\n",
       "developer          6621\n",
       "rating             6767\n",
       "dtype: int64"
      ]
     },
     "execution_count": 10,
     "metadata": {},
     "output_type": "execute_result"
    }
   ],
   "source": [
    "df = df.dropna(subset=['genre']).reset_index(drop=True)\n",
    "df.isna().sum()"
   ]
  },
  {
   "cell_type": "markdown",
   "id": "f2eb0b13",
   "metadata": {},
   "source": [
    "`user_score` имеет тип object. Приведем его к float."
   ]
  },
  {
   "cell_type": "code",
   "execution_count": 11,
   "id": "37728102",
   "metadata": {},
   "outputs": [
    {
     "data": {
      "text/plain": [
       "array(['8', nan, '8.3', '8.5', '6.6', '8.4', '8.6', '7.7', '6.3', '7.4',\n",
       "       '8.2', '9', '7.9', '8.1', '8.7', '7.1', '3.4', '5.3', '4.8', '3.2',\n",
       "       '8.9', '6.4', '7.8', '7.5', '2.6', '7.2', '9.2', '7', '7.3', '4.3',\n",
       "       '7.6', '5.7', '5', '9.1', '6.5', 'tbd', '8.8', '6.9', '9.4', '6.8',\n",
       "       '6.1', '6.7', '5.4', '4', '4.9', '4.5', '9.3', '6.2', '4.2', '6',\n",
       "       '3.7', '4.1', '5.8', '5.6', '5.5', '4.4', '4.6', '5.9', '3.9',\n",
       "       '3.1', '2.9', '5.2', '3.3', '4.7', '5.1', '3.5', '2.5', '1.9', '3',\n",
       "       '2.7', '2.2', '2', '9.5', '2.1', '3.6', '2.8', '1.8', '3.8', '0',\n",
       "       '1.6', '9.6', '2.4', '1.7', '1.1', '0.3', '1.5', '0.7', '1.2',\n",
       "       '2.3', '0.5', '1.3', '0.2', '0.6', '1.4', '0.9', '1', '9.7'],\n",
       "      dtype=object)"
      ]
     },
     "execution_count": 11,
     "metadata": {},
     "output_type": "execute_result"
    }
   ],
   "source": [
    "df['user_score'].unique()"
   ]
  },
  {
   "cell_type": "markdown",
   "id": "7488ea6f",
   "metadata": {},
   "source": [
    "Заменим `tbd` на nan"
   ]
  },
  {
   "cell_type": "code",
   "execution_count": 12,
   "id": "ce380641",
   "metadata": {},
   "outputs": [
    {
     "name": "stdout",
     "output_type": "stream",
     "text": [
      "<class 'pandas.core.frame.DataFrame'>\n",
      "RangeIndex: 16716 entries, 0 to 16715\n",
      "Data columns (total 16 columns):\n",
      " #   Column           Non-Null Count  Dtype  \n",
      "---  ------           --------------  -----  \n",
      " 0   name             16716 non-null  object \n",
      " 1   platform         16716 non-null  object \n",
      " 2   year_of_release  16447 non-null  float64\n",
      " 3   genre            16716 non-null  object \n",
      " 4   publisher        16662 non-null  object \n",
      " 5   na_sales         16716 non-null  float64\n",
      " 6   eu_sales         16716 non-null  float64\n",
      " 7   jp_sales         16716 non-null  float64\n",
      " 8   other_sales      16716 non-null  float64\n",
      " 9   global_sales     16716 non-null  float64\n",
      " 10  critic_score     8136 non-null   float64\n",
      " 11  critic_count     8136 non-null   float64\n",
      " 12  user_score       7589 non-null   float64\n",
      " 13  user_count       7589 non-null   float64\n",
      " 14  developer        10095 non-null  object \n",
      " 15  rating           9949 non-null   object \n",
      "dtypes: float64(10), object(6)\n",
      "memory usage: 2.0+ MB\n"
     ]
    }
   ],
   "source": [
    "df.user_score.replace('tbd', np.nan, inplace=True)\n",
    "df['user_score'] = df['user_score'].astype('float')\n",
    "df.info()"
   ]
  },
  {
   "cell_type": "markdown",
   "id": "a5eb45d4",
   "metadata": {},
   "source": [
    "### Анализ данных "
   ]
  },
  {
   "cell_type": "markdown",
   "id": "7a291d8e",
   "metadata": {},
   "source": [
    "Посмотрим на распределение продаж по регионам "
   ]
  },
  {
   "cell_type": "code",
   "execution_count": 13,
   "id": "0db5274a",
   "metadata": {},
   "outputs": [],
   "source": [
    "df_by_region = df.loc[:,['na_sales','eu_sales','jp_sales','other_sales']].sum().reset_index()"
   ]
  },
  {
   "cell_type": "code",
   "execution_count": 14,
   "id": "01663bc6",
   "metadata": {},
   "outputs": [
    {
     "data": {
      "image/png": "[encoded data removed]",
      "text/plain": [
       "<Figure size 640x480 with 1 Axes>"
      ]
     },
     "metadata": {},
     "output_type": "display_data"
    }
   ],
   "source": [
    "plt.pie(df_by_region.iloc[:,1],\n",
    "        labels=df_by_region.iloc[:,0],autopct='%1.1f%%')\n",
    "plt.title('Распределение продаж за все время')\n",
    "plt.show()"
   ]
  },
  {
   "cell_type": "markdown",
   "id": "66886638",
   "metadata": {},
   "source": [
    "Как видно больше всего продаж в северной америке. \n",
    "        \n",
    "Теперь посмотрим продажи по регионам, но уже в разрезе по категориям. Во всех ли категориях больше всего продаж у Северной Америки ?"
   ]
  },
  {
   "cell_type": "code",
   "execution_count": 15,
   "id": "cc83a55f",
   "metadata": {},
   "outputs": [
    {
     "data": {
      "text/html": [
       "<div>\n",
       "<style scoped>\n",
       "    .dataframe tbody tr th:only-of-type {\n",
       "        vertical-align: middle;\n",
       "    }\n",
       "\n",
       "    .dataframe tbody tr th {\n",
       "        vertical-align: top;\n",
       "    }\n",
       "\n",
       "    .dataframe thead th {\n",
       "        text-align: right;\n",
       "    }\n",
       "</style>\n",
       "<table border=\"1\" class=\"dataframe\">\n",
       "  <thead>\n",
       "    <tr style=\"text-align: right;\">\n",
       "      <th></th>\n",
       "      <th>na_sales</th>\n",
       "      <th>eu_sales</th>\n",
       "      <th>jp_sales</th>\n",
       "      <th>other_sales</th>\n",
       "      <th>global_sales</th>\n",
       "    </tr>\n",
       "    <tr>\n",
       "      <th>genre</th>\n",
       "      <th></th>\n",
       "      <th></th>\n",
       "      <th></th>\n",
       "      <th></th>\n",
       "      <th></th>\n",
       "    </tr>\n",
       "  </thead>\n",
       "  <tbody>\n",
       "    <tr>\n",
       "      <th>Action</th>\n",
       "      <td>879.01</td>\n",
       "      <td>519.13</td>\n",
       "      <td>161.44</td>\n",
       "      <td>184.60</td>\n",
       "      <td>1745.27</td>\n",
       "    </tr>\n",
       "    <tr>\n",
       "      <th>Adventure</th>\n",
       "      <td>105.26</td>\n",
       "      <td>63.54</td>\n",
       "      <td>52.30</td>\n",
       "      <td>16.49</td>\n",
       "      <td>237.69</td>\n",
       "    </tr>\n",
       "    <tr>\n",
       "      <th>Fighting</th>\n",
       "      <td>223.36</td>\n",
       "      <td>100.33</td>\n",
       "      <td>87.48</td>\n",
       "      <td>36.36</td>\n",
       "      <td>447.48</td>\n",
       "    </tr>\n",
       "    <tr>\n",
       "      <th>Misc</th>\n",
       "      <td>407.27</td>\n",
       "      <td>212.74</td>\n",
       "      <td>108.11</td>\n",
       "      <td>74.39</td>\n",
       "      <td>803.18</td>\n",
       "    </tr>\n",
       "    <tr>\n",
       "      <th>Platform</th>\n",
       "      <td>445.50</td>\n",
       "      <td>200.35</td>\n",
       "      <td>130.83</td>\n",
       "      <td>51.09</td>\n",
       "      <td>828.08</td>\n",
       "    </tr>\n",
       "    <tr>\n",
       "      <th>Puzzle</th>\n",
       "      <td>122.87</td>\n",
       "      <td>50.01</td>\n",
       "      <td>57.31</td>\n",
       "      <td>12.38</td>\n",
       "      <td>243.02</td>\n",
       "    </tr>\n",
       "    <tr>\n",
       "      <th>Racing</th>\n",
       "      <td>359.35</td>\n",
       "      <td>236.51</td>\n",
       "      <td>56.71</td>\n",
       "      <td>76.10</td>\n",
       "      <td>728.90</td>\n",
       "    </tr>\n",
       "    <tr>\n",
       "      <th>Role-Playing</th>\n",
       "      <td>330.81</td>\n",
       "      <td>188.71</td>\n",
       "      <td>355.46</td>\n",
       "      <td>59.63</td>\n",
       "      <td>934.40</td>\n",
       "    </tr>\n",
       "    <tr>\n",
       "      <th>Shooter</th>\n",
       "      <td>592.24</td>\n",
       "      <td>317.34</td>\n",
       "      <td>38.76</td>\n",
       "      <td>104.11</td>\n",
       "      <td>1052.94</td>\n",
       "    </tr>\n",
       "    <tr>\n",
       "      <th>Simulation</th>\n",
       "      <td>182.19</td>\n",
       "      <td>113.52</td>\n",
       "      <td>63.80</td>\n",
       "      <td>30.75</td>\n",
       "      <td>390.42</td>\n",
       "    </tr>\n",
       "    <tr>\n",
       "      <th>Sports</th>\n",
       "      <td>684.43</td>\n",
       "      <td>376.78</td>\n",
       "      <td>135.54</td>\n",
       "      <td>134.51</td>\n",
       "      <td>1331.99</td>\n",
       "    </tr>\n",
       "    <tr>\n",
       "      <th>Strategy</th>\n",
       "      <td>68.55</td>\n",
       "      <td>45.17</td>\n",
       "      <td>49.66</td>\n",
       "      <td>10.85</td>\n",
       "      <td>174.50</td>\n",
       "    </tr>\n",
       "  </tbody>\n",
       "</table>\n",
       "</div>"
      ],
      "text/plain": [
       "              na_sales  eu_sales  jp_sales  other_sales  global_sales\n",
       "genre                                                                \n",
       "Action          879.01    519.13    161.44       184.60       1745.27\n",
       "Adventure       105.26     63.54     52.30        16.49        237.69\n",
       "Fighting        223.36    100.33     87.48        36.36        447.48\n",
       "Misc            407.27    212.74    108.11        74.39        803.18\n",
       "Platform        445.50    200.35    130.83        51.09        828.08\n",
       "Puzzle          122.87     50.01     57.31        12.38        243.02\n",
       "Racing          359.35    236.51     56.71        76.10        728.90\n",
       "Role-Playing    330.81    188.71    355.46        59.63        934.40\n",
       "Shooter         592.24    317.34     38.76       104.11       1052.94\n",
       "Simulation      182.19    113.52     63.80        30.75        390.42\n",
       "Sports          684.43    376.78    135.54       134.51       1331.99\n",
       "Strategy         68.55     45.17     49.66        10.85        174.50"
      ]
     },
     "execution_count": 15,
     "metadata": {},
     "output_type": "execute_result"
    }
   ],
   "source": [
    "df_by_genre = df.groupby('genre').agg('sum').loc[:,['na_sales','eu_sales','jp_sales','other_sales','global_sales']]\n",
    "df_by_genre"
   ]
  },
  {
   "cell_type": "code",
   "execution_count": 16,
   "id": "d29a9707",
   "metadata": {
    "scrolled": false
   },
   "outputs": [
    {
     "data": {
      "image/png": "[encoded data removed]",
      "text/plain": [
       "<Figure size 640x480 with 1 Axes>"
      ]
     },
     "metadata": {},
     "output_type": "display_data"
    }
   ],
   "source": [
    "ax = df_by_genre.loc[:,['na_sales','eu_sales','jp_sales','other_sales']].plot(kind='bar',stacked=True)\n",
    "plt.grid()\n",
    "plt.show()"
   ]
  },
  {
   "cell_type": "code",
   "execution_count": 17,
   "id": "4e6880f5",
   "metadata": {},
   "outputs": [
    {
     "data": {
      "image/png": "[encoded data removed]",
      "text/plain": [
       "<Figure size 640x480 with 1 Axes>"
      ]
     },
     "metadata": {},
     "output_type": "display_data"
    }
   ],
   "source": [
    "plt.pie(df_by_genre.global_sales, labels = df_by_genre.index, autopct='%1.1f%%')\n",
    "plt.show()"
   ]
  },
  {
   "cell_type": "markdown",
   "id": "ae46b27b",
   "metadata": {},
   "source": [
    "Игры в жанре Action продаются больше всего. Также видно, что Япония лидирует по количеству продаж Role-Playing."
   ]
  },
  {
   "cell_type": "markdown",
   "id": "c35fb582",
   "metadata": {},
   "source": [
    "Сравним популярность различных категорий в Европе и Японии"
   ]
  },
  {
   "cell_type": "code",
   "execution_count": 18,
   "id": "9d1f712e",
   "metadata": {},
   "outputs": [
    {
     "data": {
      "image/png": "[encoded data removed]",
      "text/plain": [
       "<Figure size 700x700 with 2 Axes>"
      ]
     },
     "metadata": {},
     "output_type": "display_data"
    }
   ],
   "source": [
    "fig, (ax1, ax2) = plt.subplots(2, 1, figsize=(7, 7))\n",
    "sns.barplot(df_by_genre.sort_values(by='eu_sales').reset_index(), x='genre', y='eu_sales', ax=ax1)\n",
    "sns.barplot(df_by_genre.sort_values(by='jp_sales').reset_index(), x='genre', y='jp_sales', ax=ax2)\n",
    "ax1.set(xlabel=\"Genre\", ylabel=\"EU Sales\")\n",
    "ax2.set(xlabel=\"Genre\", ylabel=\"JP Sales\")\n",
    "ax1.set_xticklabels(ax1.get_xticklabels(), rotation=30)\n",
    "ax2.set_xticklabels(ax2.get_xticklabels(), rotation=30)\n",
    "fig.tight_layout()\n",
    "ax1.grid()\n",
    "ax2.grid()\n",
    "plt.show()"
   ]
  },
  {
   "cell_type": "markdown",
   "id": "ec091138",
   "metadata": {},
   "source": [
    "### Игры, выпущенные на платформе Sony, продаются лучше, чем игры, выпущенные на платформе Xbox"
   ]
  },
  {
   "cell_type": "markdown",
   "id": "cbc0aa95",
   "metadata": {},
   "source": [
    "К платформе Sony относятся следующие консоли:\n",
    "* `PS`\n",
    "* `PS2`\n",
    "* `PS3'`\n",
    "* `PS4`\n",
    "* `PSP`\n",
    "* `PSV`\n",
    "\n",
    "К платформе Xbox\n",
    "* `X360`\n",
    "* `XB`\n",
    "* `XOne`"
   ]
  },
  {
   "cell_type": "markdown",
   "id": "9e4aa67f",
   "metadata": {},
   "source": [
    "    Для начала сравним общее количество продаж у разных платформ "
   ]
  },
  {
   "cell_type": "code",
   "execution_count": 19,
   "id": "b3e73507",
   "metadata": {
    "scrolled": true
   },
   "outputs": [
    {
     "data": {
      "text/plain": [
       "array(['Wii', 'NES', 'GB', 'DS', 'X360', 'PS3', 'PS2', 'SNES', 'GBA',\n",
       "       'PS4', '3DS', 'N64', 'PS', 'XB', 'PC', '2600', 'PSP', 'XOne',\n",
       "       'WiiU', 'GC', 'GEN', 'DC', 'PSV', 'SAT', 'SCD', 'WS', 'NG', 'TG16',\n",
       "       '3DO', 'GG', 'PCFX'], dtype=object)"
      ]
     },
     "execution_count": 19,
     "metadata": {},
     "output_type": "execute_result"
    }
   ],
   "source": [
    "df.platform.unique()"
   ]
  },
  {
   "cell_type": "code",
   "execution_count": 20,
   "id": "bda41c0e",
   "metadata": {},
   "outputs": [],
   "source": [
    "def platform_trans(x):\n",
    "    if x in ['PS','PS2','PS3','PS4','PSP','PSV']:\n",
    "        x = 'PS'   \n",
    "    elif x in ['X360','XB','XOne']:\n",
    "        x = 'Xbox'\n",
    "    else:\n",
    "        x = 'Other'\n",
    "    \n",
    "    return x"
   ]
  },
  {
   "cell_type": "code",
   "execution_count": 21,
   "id": "9812f4c6",
   "metadata": {
    "scrolled": false
   },
   "outputs": [
    {
     "data": {
      "text/html": [
       "<div>\n",
       "<style scoped>\n",
       "    .dataframe tbody tr th:only-of-type {\n",
       "        vertical-align: middle;\n",
       "    }\n",
       "\n",
       "    .dataframe tbody tr th {\n",
       "        vertical-align: top;\n",
       "    }\n",
       "\n",
       "    .dataframe thead th {\n",
       "        text-align: right;\n",
       "    }\n",
       "</style>\n",
       "<table border=\"1\" class=\"dataframe\">\n",
       "  <thead>\n",
       "    <tr style=\"text-align: right;\">\n",
       "      <th></th>\n",
       "      <th>name</th>\n",
       "      <th>platform</th>\n",
       "      <th>year_of_release</th>\n",
       "      <th>genre</th>\n",
       "      <th>publisher</th>\n",
       "      <th>na_sales</th>\n",
       "      <th>eu_sales</th>\n",
       "      <th>jp_sales</th>\n",
       "      <th>other_sales</th>\n",
       "      <th>global_sales</th>\n",
       "      <th>critic_score</th>\n",
       "      <th>critic_count</th>\n",
       "      <th>user_score</th>\n",
       "      <th>user_count</th>\n",
       "      <th>developer</th>\n",
       "      <th>rating</th>\n",
       "      <th>platform_new</th>\n",
       "    </tr>\n",
       "  </thead>\n",
       "  <tbody>\n",
       "    <tr>\n",
       "      <th>16711</th>\n",
       "      <td>Samurai Warriors: Sanada Maru</td>\n",
       "      <td>PS3</td>\n",
       "      <td>2016.0</td>\n",
       "      <td>Action</td>\n",
       "      <td>Tecmo Koei</td>\n",
       "      <td>0.00</td>\n",
       "      <td>0.00</td>\n",
       "      <td>0.01</td>\n",
       "      <td>0.0</td>\n",
       "      <td>0.01</td>\n",
       "      <td>NaN</td>\n",
       "      <td>NaN</td>\n",
       "      <td>NaN</td>\n",
       "      <td>NaN</td>\n",
       "      <td>NaN</td>\n",
       "      <td>NaN</td>\n",
       "      <td>PS</td>\n",
       "    </tr>\n",
       "    <tr>\n",
       "      <th>16712</th>\n",
       "      <td>LMA Manager 2007</td>\n",
       "      <td>X360</td>\n",
       "      <td>2006.0</td>\n",
       "      <td>Sports</td>\n",
       "      <td>Codemasters</td>\n",
       "      <td>0.00</td>\n",
       "      <td>0.01</td>\n",
       "      <td>0.00</td>\n",
       "      <td>0.0</td>\n",
       "      <td>0.01</td>\n",
       "      <td>NaN</td>\n",
       "      <td>NaN</td>\n",
       "      <td>NaN</td>\n",
       "      <td>NaN</td>\n",
       "      <td>NaN</td>\n",
       "      <td>NaN</td>\n",
       "      <td>Xbox</td>\n",
       "    </tr>\n",
       "    <tr>\n",
       "      <th>16713</th>\n",
       "      <td>Haitaka no Psychedelica</td>\n",
       "      <td>PSV</td>\n",
       "      <td>2016.0</td>\n",
       "      <td>Adventure</td>\n",
       "      <td>Idea Factory</td>\n",
       "      <td>0.00</td>\n",
       "      <td>0.00</td>\n",
       "      <td>0.01</td>\n",
       "      <td>0.0</td>\n",
       "      <td>0.01</td>\n",
       "      <td>NaN</td>\n",
       "      <td>NaN</td>\n",
       "      <td>NaN</td>\n",
       "      <td>NaN</td>\n",
       "      <td>NaN</td>\n",
       "      <td>NaN</td>\n",
       "      <td>PS</td>\n",
       "    </tr>\n",
       "    <tr>\n",
       "      <th>16714</th>\n",
       "      <td>Spirits &amp; Spells</td>\n",
       "      <td>GBA</td>\n",
       "      <td>2003.0</td>\n",
       "      <td>Platform</td>\n",
       "      <td>Wanadoo</td>\n",
       "      <td>0.01</td>\n",
       "      <td>0.00</td>\n",
       "      <td>0.00</td>\n",
       "      <td>0.0</td>\n",
       "      <td>0.01</td>\n",
       "      <td>NaN</td>\n",
       "      <td>NaN</td>\n",
       "      <td>NaN</td>\n",
       "      <td>NaN</td>\n",
       "      <td>NaN</td>\n",
       "      <td>NaN</td>\n",
       "      <td>Other</td>\n",
       "    </tr>\n",
       "    <tr>\n",
       "      <th>16715</th>\n",
       "      <td>Winning Post 8 2016</td>\n",
       "      <td>PSV</td>\n",
       "      <td>2016.0</td>\n",
       "      <td>Simulation</td>\n",
       "      <td>Tecmo Koei</td>\n",
       "      <td>0.00</td>\n",
       "      <td>0.00</td>\n",
       "      <td>0.01</td>\n",
       "      <td>0.0</td>\n",
       "      <td>0.01</td>\n",
       "      <td>NaN</td>\n",
       "      <td>NaN</td>\n",
       "      <td>NaN</td>\n",
       "      <td>NaN</td>\n",
       "      <td>NaN</td>\n",
       "      <td>NaN</td>\n",
       "      <td>PS</td>\n",
       "    </tr>\n",
       "  </tbody>\n",
       "</table>\n",
       "</div>"
      ],
      "text/plain": [
       "                                name platform  year_of_release       genre  \\\n",
       "16711  Samurai Warriors: Sanada Maru      PS3           2016.0      Action   \n",
       "16712               LMA Manager 2007     X360           2006.0      Sports   \n",
       "16713        Haitaka no Psychedelica      PSV           2016.0   Adventure   \n",
       "16714               Spirits & Spells      GBA           2003.0    Platform   \n",
       "16715            Winning Post 8 2016      PSV           2016.0  Simulation   \n",
       "\n",
       "          publisher  na_sales  eu_sales  jp_sales  other_sales  global_sales  \\\n",
       "16711    Tecmo Koei      0.00      0.00      0.01          0.0          0.01   \n",
       "16712   Codemasters      0.00      0.01      0.00          0.0          0.01   \n",
       "16713  Idea Factory      0.00      0.00      0.01          0.0          0.01   \n",
       "16714       Wanadoo      0.01      0.00      0.00          0.0          0.01   \n",
       "16715    Tecmo Koei      0.00      0.00      0.01          0.0          0.01   \n",
       "\n",
       "       critic_score  critic_count  user_score  user_count developer rating  \\\n",
       "16711           NaN           NaN         NaN         NaN       NaN    NaN   \n",
       "16712           NaN           NaN         NaN         NaN       NaN    NaN   \n",
       "16713           NaN           NaN         NaN         NaN       NaN    NaN   \n",
       "16714           NaN           NaN         NaN         NaN       NaN    NaN   \n",
       "16715           NaN           NaN         NaN         NaN       NaN    NaN   \n",
       "\n",
       "      platform_new  \n",
       "16711           PS  \n",
       "16712         Xbox  \n",
       "16713           PS  \n",
       "16714        Other  \n",
       "16715           PS  "
      ]
     },
     "execution_count": 21,
     "metadata": {},
     "output_type": "execute_result"
    }
   ],
   "source": [
    "df['platform_new']=df['platform'].apply(platform_trans)\n",
    "df.tail()"
   ]
  },
  {
   "cell_type": "code",
   "execution_count": 22,
   "id": "168fbfd9",
   "metadata": {
    "scrolled": true
   },
   "outputs": [],
   "source": [
    "data_by_platform = df[(df['platform_new'] == 'Xbox') | (df['platform_new'] == 'PS')].groupby('platform_new').agg('sum')['global_sales'].reset_index()"
   ]
  },
  {
   "cell_type": "code",
   "execution_count": 23,
   "id": "f1d1c4a1",
   "metadata": {},
   "outputs": [
    {
     "data": {
      "image/png": "[encoded data removed]",
      "text/plain": [
       "<Figure size 300x500 with 1 Axes>"
      ]
     },
     "metadata": {},
     "output_type": "display_data"
    }
   ],
   "source": [
    "plt.figure(figsize=(3,5))\n",
    "sns.barplot(data_by_platform, x='platform_new', y='global_sales')\n",
    "plt.show()"
   ]
  },
  {
   "cell_type": "markdown",
   "id": "fa99ddae",
   "metadata": {},
   "source": [
    "Общее количество продаж больше у Sony. Теперь сравним количество продаж только для тех игр, которые есть у обеих платформ. "
   ]
  },
  {
   "cell_type": "code",
   "execution_count": 24,
   "id": "9faf7c4b",
   "metadata": {},
   "outputs": [
    {
     "name": "stdout",
     "output_type": "stream",
     "text": [
      "(5842,)\n",
      "(2179,)\n"
     ]
    }
   ],
   "source": [
    "uniq_ps = df[df['platform_new']=='PS'].name.unique()\n",
    "uniq_xbox = df[df['platform_new']=='Xbox'].name.unique()\n",
    "print(uniq_ps.shape)\n",
    "print(uniq_xbox.shape)"
   ]
  },
  {
   "cell_type": "code",
   "execution_count": 25,
   "id": "36f11d8e",
   "metadata": {},
   "outputs": [
    {
     "data": {
      "text/plain": [
       "1545"
      ]
     },
     "execution_count": 25,
     "metadata": {},
     "output_type": "execute_result"
    }
   ],
   "source": [
    "intersection = set(uniq_ps) & set(uniq_xbox)\n",
    "len(list(intersection))"
   ]
  },
  {
   "cell_type": "code",
   "execution_count": 26,
   "id": "187ab8c7",
   "metadata": {
    "scrolled": false
   },
   "outputs": [
    {
     "data": {
      "image/png": "[encoded data removed]",
      "text/plain": [
       "<Figure size 300x500 with 1 Axes>"
      ]
     },
     "metadata": {},
     "output_type": "display_data"
    }
   ],
   "source": [
    "data_by_platform_inter = df[(df['name'].isin(intersection)) & ((df['platform_new'] == 'Xbox') | (df['platform_new'] == 'PS'))]\\\n",
    "                        .groupby('platform_new').agg('sum')['global_sales'].reset_index()\n",
    "plt.figure(figsize=(3,5))\n",
    "sns.barplot(data_by_platform_inter, x='platform_new', y='global_sales')\n",
    "plt.show()"
   ]
  },
  {
   "cell_type": "markdown",
   "id": "d59c3af6",
   "metadata": {},
   "source": [
    "    Продаж снова больше у Sony. Различия между группами велики, поэтому нет необходимости проводить статистический тест"
   ]
  },
  {
   "cell_type": "markdown",
   "id": "91539823",
   "metadata": {},
   "source": [
    "### Игры, выпущенные на платформе Sony, имеют более высокие оценки пользователей, чем игры, выпущенные на платформе Xbox"
   ]
  },
  {
   "cell_type": "markdown",
   "id": "c1b8f7d3",
   "metadata": {},
   "source": [
    "Для того, чтобы доказать эту и следующую гипотезу нужно очистить данные от пустых значений столбцов с оценками"
   ]
  },
  {
   "cell_type": "code",
   "execution_count": 27,
   "id": "8612a14b",
   "metadata": {},
   "outputs": [
    {
     "name": "stdout",
     "output_type": "stream",
     "text": [
      "<class 'pandas.core.frame.DataFrame'>\n",
      "RangeIndex: 7016 entries, 0 to 7015\n",
      "Data columns (total 17 columns):\n",
      " #   Column           Non-Null Count  Dtype  \n",
      "---  ------           --------------  -----  \n",
      " 0   name             7016 non-null   object \n",
      " 1   platform         7016 non-null   object \n",
      " 2   year_of_release  6893 non-null   float64\n",
      " 3   genre            7016 non-null   object \n",
      " 4   publisher        7012 non-null   object \n",
      " 5   na_sales         7016 non-null   float64\n",
      " 6   eu_sales         7016 non-null   float64\n",
      " 7   jp_sales         7016 non-null   float64\n",
      " 8   other_sales      7016 non-null   float64\n",
      " 9   global_sales     7016 non-null   float64\n",
      " 10  critic_score     7016 non-null   float64\n",
      " 11  critic_count     7016 non-null   float64\n",
      " 12  user_score       7016 non-null   float64\n",
      " 13  user_count       7016 non-null   float64\n",
      " 14  developer        7012 non-null   object \n",
      " 15  rating           6946 non-null   object \n",
      " 16  platform_new     7016 non-null   object \n",
      "dtypes: float64(10), object(7)\n",
      "memory usage: 931.9+ KB\n"
     ]
    }
   ],
   "source": [
    "df = df.dropna(subset=['critic_score','user_score']).reset_index(drop=True)\n",
    "df.info()"
   ]
  },
  {
   "cell_type": "code",
   "execution_count": 28,
   "id": "a29d7314",
   "metadata": {},
   "outputs": [],
   "source": [
    "df_user_score = df[((df['platform_new'] == 'Xbox') | (df['platform_new'] == 'PS'))][['platform_new','user_score']]\n"
   ]
  },
  {
   "cell_type": "code",
   "execution_count": 29,
   "id": "1cce2504",
   "metadata": {
    "scrolled": false
   },
   "outputs": [
    {
     "data": {
      "image/png": "[encoded data removed]",
      "text/plain": [
       "<Figure size 640x480 with 1 Axes>"
      ]
     },
     "metadata": {},
     "output_type": "display_data"
    }
   ],
   "source": [
    "ax = df_user_score.groupby('platform_new').apply('mean')['user_score'].plot(kind = 'bar',grid=True,color=['blue','green'])\n",
    "plt.ylabel('user_score')\n",
    "plt.bar_label(ax.containers[0])\n",
    "plt.show()"
   ]
  },
  {
   "cell_type": "markdown",
   "id": "253fa58d",
   "metadata": {},
   "source": [
    "Различие между группами небольшое. Стоит провести статистический тест для вынесения объективных выводов."
   ]
  },
  {
   "cell_type": "markdown",
   "id": "5f2a1153",
   "metadata": {},
   "source": [
    "Посмотрим распределение оценок и проверим группы на нормальность"
   ]
  },
  {
   "cell_type": "code",
   "execution_count": 30,
   "id": "7540aebe",
   "metadata": {},
   "outputs": [
    {
     "data": {
      "image/png": "[encoded data removed]",
      "text/plain": [
       "<Figure size 640x480 with 1 Axes>"
      ]
     },
     "metadata": {},
     "output_type": "display_data"
    }
   ],
   "source": [
    "sns.histplot(df_user_score[df_user_score.platform_new == 'PS']['user_score'])\n",
    "sns.histplot(df_user_score[df_user_score.platform_new == 'Xbox']['user_score'],color='green')\n",
    "plt.show()"
   ]
  },
  {
   "cell_type": "code",
   "execution_count": 31,
   "id": "ab44a5f5",
   "metadata": {
    "scrolled": false
   },
   "outputs": [
    {
     "data": {
      "image/png": "[encoded data removed]",
      "text/plain": [
       "<Figure size 640x480 with 1 Axes>"
      ]
     },
     "metadata": {},
     "output_type": "display_data"
    }
   ],
   "source": [
    "sns.distplot(df_user_score[df_user_score.platform_new == 'PS']['user_score'])\n",
    "sns.distplot(df_user_score[df_user_score.platform_new == 'Xbox']['user_score'],color='green')\n",
    "plt.show()"
   ]
  },
  {
   "cell_type": "markdown",
   "id": "eb0e2c9e",
   "metadata": {},
   "source": [
    "Распределение похоже на нормальное, однако имеет более длинный хвост слева. \n",
    "Визуально разница между группами слабая"
   ]
  },
  {
   "cell_type": "markdown",
   "id": "80d292e7",
   "metadata": {},
   "source": [
    "### Основная и альтернативания гипотеза:\n",
    "\n",
    " \\begin{cases}\n",
    "   H_0 :\\text{средние пользовательские рейтинги Xbox и PS одинаковы}\\\\\n",
    "   H_1 :\\text{средние пользовательские рейтинги PS больше чем у Xbox}\n",
    " \\end{cases}\n"
   ]
  },
  {
   "cell_type": "code",
   "execution_count": 32,
   "id": "cda3e3a3",
   "metadata": {},
   "outputs": [
    {
     "data": {
      "text/plain": [
       "7.2952214858737365"
      ]
     },
     "execution_count": 32,
     "metadata": {},
     "output_type": "execute_result"
    }
   ],
   "source": [
    "df_user_score[df_user_score.platform_new == 'PS']['user_score'].mean()"
   ]
  },
  {
   "cell_type": "code",
   "execution_count": 33,
   "id": "26091c39",
   "metadata": {},
   "outputs": [
    {
     "name": "stdout",
     "output_type": "stream",
     "text": [
      "t: 6.2938342099503295\n",
      "p: 3.3928056919339307e-10\n",
      "Отвергаем нулевую гипотезу\n"
     ]
    }
   ],
   "source": [
    "alpha=0.05\n",
    "t,p = ttest_ind(df_user_score[df_user_score.platform_new == 'PS']['user_score'],\n",
    "                df_user_score[df_user_score.platform_new == 'Xbox']['user_score'])\n",
    "\n",
    "\n",
    "print('t: '+str(t)+'\\np: '+str(p))\n",
    "if (p/2<alpha) and (df_user_score[df_user_score.platform_new == 'PS']['user_score'].mean() > \n",
    "                    df_user_score[df_user_score.platform_new == 'Xbox']['user_score'].mean()):\n",
    "    print('Отвергаем нулевую гипотезу')\n",
    "else:\n",
    "    print(\"Не получилось отвергнуть нулевую гипотезу\")"
   ]
  },
  {
   "cell_type": "code",
   "execution_count": 34,
   "id": "a4401f7f",
   "metadata": {},
   "outputs": [
    {
     "name": "stdout",
     "output_type": "stream",
     "text": [
      "2611335.0 2.42664864098909e-11\n"
     ]
    }
   ],
   "source": [
    "u,p = mannwhitneyu(df_user_score[df_user_score.platform_new == 'PS']['user_score'],df_user_score[df_user_score.platform_new == 'Xbox']['user_score'])\n",
    "print(u,p)"
   ]
  },
  {
   "cell_type": "markdown",
   "id": "c81f0b5b",
   "metadata": {},
   "source": [
    "### Игры с более высокими оценками критиков продаются лучше, чем игры с более низкими оценками критиков"
   ]
  },
  {
   "cell_type": "markdown",
   "id": "fead37b5",
   "metadata": {},
   "source": [
    "Для того, чтобы доказать данную гипотезу нужно очистить данные от пустых значений столбцов с оценками критиков "
   ]
  },
  {
   "cell_type": "markdown",
   "id": "94507bdc",
   "metadata": {},
   "source": [
    "Разобьем игры на две группы. В первой группе будут более высокие оценки критиков, во второй менее высокие. Разбивать будем следующем образом: вычислим медианное значение оценки критиков, в одной группе будут игры, у которых оценка ниже медианной оценки критиков, у другой выше "
   ]
  },
  {
   "cell_type": "code",
   "execution_count": 35,
   "id": "691c7be1",
   "metadata": {},
   "outputs": [
    {
     "data": {
      "text/plain": [
       "72.0"
      ]
     },
     "execution_count": 35,
     "metadata": {},
     "output_type": "execute_result"
    }
   ],
   "source": [
    "score_median = df.critic_score.median()\n",
    "score_median"
   ]
  },
  {
   "cell_type": "code",
   "execution_count": 36,
   "id": "b70130e5",
   "metadata": {},
   "outputs": [
    {
     "data": {
      "text/plain": [
       "3333"
      ]
     },
     "execution_count": 36,
     "metadata": {},
     "output_type": "execute_result"
    }
   ],
   "source": [
    "df[df.critic_score < score_median].count()[0]"
   ]
  },
  {
   "cell_type": "code",
   "execution_count": 37,
   "id": "eeb66dc7",
   "metadata": {},
   "outputs": [
    {
     "data": {
      "text/plain": [
       "3683"
      ]
     },
     "execution_count": 37,
     "metadata": {},
     "output_type": "execute_result"
    }
   ],
   "source": [
    "df[df.critic_score >= score_median].count()[0]"
   ]
  },
  {
   "cell_type": "markdown",
   "id": "5e81d81a",
   "metadata": {},
   "source": [
    "Группы получились немного разные по величине. Это произошло из-за того, что оценку равную медиане принимает большое количество игр. Для начала посмотрим на количество продаж для этих групп, если они не будут сильно отличаться, то стоит разделить данные на две группы другим способом"
   ]
  },
  {
   "cell_type": "code",
   "execution_count": 38,
   "id": "3e3e801a",
   "metadata": {},
   "outputs": [
    {
     "data": {
      "text/plain": [
       "1257.0700000000002"
      ]
     },
     "execution_count": 38,
     "metadata": {},
     "output_type": "execute_result"
    }
   ],
   "source": [
    "df[df.critic_score < score_median]['global_sales'].sum()"
   ]
  },
  {
   "cell_type": "code",
   "execution_count": 39,
   "id": "967cc52f",
   "metadata": {
    "scrolled": true
   },
   "outputs": [
    {
     "data": {
      "text/plain": [
       "4125.3"
      ]
     },
     "execution_count": 39,
     "metadata": {},
     "output_type": "execute_result"
    }
   ],
   "source": [
    "df[df.critic_score >= score_median]['global_sales'].sum()"
   ]
  },
  {
   "cell_type": "markdown",
   "id": "2ddaf522",
   "metadata": {},
   "source": [
    "Продажи игр с высокой оценкой больше чем в три раза превышают продажи игр с низкой оценкой. Разбивать группы другим способом не имеет смысла"
   ]
  },
  {
   "cell_type": "markdown",
   "id": "fd33ea11",
   "metadata": {},
   "source": [
    "Посмотрим также как выглядит распределение продаж в зависимости от оценок критиков"
   ]
  },
  {
   "cell_type": "code",
   "execution_count": 40,
   "id": "d1d99881",
   "metadata": {
    "scrolled": false
   },
   "outputs": [
    {
     "data": {
      "image/png": "[encoded data removed]",
      "text/plain": [
       "<Figure size 640x480 with 1 Axes>"
      ]
     },
     "metadata": {},
     "output_type": "display_data"
    }
   ],
   "source": [
    "df['critic_score_decade'] = df['critic_score']//10*10\n",
    "df_by_critic = df.groupby('critic_score_decade').agg('sum')['global_sales'].reset_index()\n",
    "sns.barplot(df_by_critic, x = 'critic_score_decade', y = 'global_sales')\n",
    "plt.show()"
   ]
  },
  {
   "cell_type": "markdown",
   "id": "64303fa7",
   "metadata": {},
   "source": [
    "Также посмотрим среднее количество продаж на одну игру в зависимости от оценок критиков "
   ]
  },
  {
   "cell_type": "code",
   "execution_count": 41,
   "id": "45987c3a",
   "metadata": {
    "scrolled": true
   },
   "outputs": [
    {
     "data": {
      "image/png": "[encoded data removed]",
      "text/plain": [
       "<Figure size 640x480 with 1 Axes>"
      ]
     },
     "metadata": {},
     "output_type": "display_data"
    }
   ],
   "source": [
    "df_sum_count = df.groupby('critic_score_decade').agg('mean')['global_sales'].reset_index()\n",
    "sns.barplot(df_sum_count, x='critic_score_decade', y = 'global_sales')\n",
    "plt.show()"
   ]
  },
  {
   "cell_type": "code",
   "execution_count": 49,
   "id": "ebe6ab54",
   "metadata": {
    "scrolled": true
   },
   "outputs": [
    {
     "data": {
      "text/plain": [
       "Index(['name', 'platform', 'year_of_release', 'genre', 'publisher', 'na_sales',\n",
       "       'eu_sales', 'jp_sales', 'other_sales', 'global_sales', 'critic_score',\n",
       "       'critic_count', 'user_score', 'user_count', 'developer', 'rating',\n",
       "       'platform_new', 'critic_score_decade'],\n",
       "      dtype='object')"
      ]
     },
     "execution_count": 49,
     "metadata": {},
     "output_type": "execute_result"
    }
   ],
   "source": [
    "df.columns"
   ]
  },
  {
   "cell_type": "markdown",
   "id": "759fb2ee",
   "metadata": {},
   "source": [
    "### Посмотрим на корреляцию параметров в зависисмоти от года релиза"
   ]
  },
  {
   "cell_type": "code",
   "execution_count": 93,
   "id": "2bcd47e6",
   "metadata": {},
   "outputs": [],
   "source": [
    "df = df.dropna(subset=['year_of_release']).reset_index(drop=True)"
   ]
  },
  {
   "cell_type": "code",
   "execution_count": 94,
   "id": "2c6eca6f",
   "metadata": {},
   "outputs": [
    {
     "data": {
      "text/html": [
       "<style type=\"text/css\">\n",
       "#T_5c79c_row0_col0 {\n",
       "  background-color: #023858;\n",
       "  color: #f1f1f1;\n",
       "}\n",
       "#T_5c79c_row1_col0 {\n",
       "  background-color: #dfddec;\n",
       "  color: #000000;\n",
       "}\n",
       "#T_5c79c_row2_col0, #T_5c79c_row4_col0 {\n",
       "  background-color: #d4d4e8;\n",
       "  color: #000000;\n",
       "}\n",
       "#T_5c79c_row3_col0 {\n",
       "  background-color: #e3e0ee;\n",
       "  color: #000000;\n",
       "}\n",
       "#T_5c79c_row5_col0 {\n",
       "  background-color: #dbdaeb;\n",
       "  color: #000000;\n",
       "}\n",
       "#T_5c79c_row6_col0 {\n",
       "  background-color: #dddbec;\n",
       "  color: #000000;\n",
       "}\n",
       "#T_5c79c_row7_col0 {\n",
       "  background-color: #fff7fb;\n",
       "  color: #000000;\n",
       "}\n",
       "</style>\n",
       "<table id=\"T_5c79c\">\n",
       "  <thead>\n",
       "    <tr>\n",
       "      <th class=\"blank level0\" >&nbsp;</th>\n",
       "      <th id=\"T_5c79c_level0_col0\" class=\"col_heading level0 col0\" >year_of_release</th>\n",
       "    </tr>\n",
       "  </thead>\n",
       "  <tbody>\n",
       "    <tr>\n",
       "      <th id=\"T_5c79c_level0_row0\" class=\"row_heading level0 row0\" >year_of_release</th>\n",
       "      <td id=\"T_5c79c_row0_col0\" class=\"data row0 col0\" >1.000000</td>\n",
       "    </tr>\n",
       "    <tr>\n",
       "      <th id=\"T_5c79c_level0_row1\" class=\"row_heading level0 row1\" >na_sales</th>\n",
       "      <td id=\"T_5c79c_row1_col0\" class=\"data row1 col0\" >-0.020410</td>\n",
       "    </tr>\n",
       "    <tr>\n",
       "      <th id=\"T_5c79c_level0_row2\" class=\"row_heading level0 row2\" >eu_sales</th>\n",
       "      <td id=\"T_5c79c_row2_col0\" class=\"data row2 col0\" >0.038077</td>\n",
       "    </tr>\n",
       "    <tr>\n",
       "      <th id=\"T_5c79c_level0_row3\" class=\"row_heading level0 row3\" >jp_sales</th>\n",
       "      <td id=\"T_5c79c_row3_col0\" class=\"data row3 col0\" >-0.041684</td>\n",
       "    </tr>\n",
       "    <tr>\n",
       "      <th id=\"T_5c79c_level0_row4\" class=\"row_heading level0 row4\" >other_sales</th>\n",
       "      <td id=\"T_5c79c_row4_col0\" class=\"data row4 col0\" >0.038858</td>\n",
       "    </tr>\n",
       "    <tr>\n",
       "      <th id=\"T_5c79c_level0_row5\" class=\"row_heading level0 row5\" >global_sales</th>\n",
       "      <td id=\"T_5c79c_row5_col0\" class=\"data row5 col0\" >0.002508</td>\n",
       "    </tr>\n",
       "    <tr>\n",
       "      <th id=\"T_5c79c_level0_row6\" class=\"row_heading level0 row6\" >critic_score</th>\n",
       "      <td id=\"T_5c79c_row6_col0\" class=\"data row6 col0\" >-0.011359</td>\n",
       "    </tr>\n",
       "    <tr>\n",
       "      <th id=\"T_5c79c_level0_row7\" class=\"row_heading level0 row7\" >user_score</th>\n",
       "      <td id=\"T_5c79c_row7_col0\" class=\"data row7 col0\" >-0.251347</td>\n",
       "    </tr>\n",
       "  </tbody>\n",
       "</table>\n"
      ],
      "text/plain": [
       "<pandas.io.formats.style.Styler at 0x7fb266fcd100>"
      ]
     },
     "execution_count": 94,
     "metadata": {},
     "output_type": "execute_result"
    }
   ],
   "source": [
    "df.corr().loc[['year_of_release', 'na_sales',\n",
    "       'eu_sales', 'jp_sales', 'other_sales', 'global_sales', 'critic_score',\n",
    "        'user_score'],['year_of_release']].style.background_gradient(axis=0)"
   ]
  },
  {
   "cell_type": "markdown",
   "id": "a5829797",
   "metadata": {},
   "source": [
    "Можно заметить практически отсутствующую отрицательную корреляцию между годом релиза и оценкой критиков и слабю корреляцию между годом релиза и оценкой пользователей. Это может говорить о том, что пользователям меньше нравятся новые игры. Посмотрим на графики, чтобы лучше понять ситуацию. "
   ]
  },
  {
   "cell_type": "code",
   "execution_count": 97,
   "id": "15c0171d",
   "metadata": {},
   "outputs": [
    {
     "data": {
      "text/plain": [
       "array([2006., 2008., 2009., 2005., 2007., 2010., 2013., 2004., 2002.,\n",
       "       2001., 2011., 2012., 2014., 1997., 1999., 2015., 2016., 2003.,\n",
       "       1998., 1996., 2000., 1994., 1985., 1992., 1988.])"
      ]
     },
     "execution_count": 97,
     "metadata": {},
     "output_type": "execute_result"
    }
   ],
   "source": [
    "df['year_of_release_new']=(df['year_of_release']//2*2).astype('int')\n",
    "df.year_of_release.unique()"
   ]
  },
  {
   "cell_type": "code",
   "execution_count": 98,
   "id": "c5280bd3",
   "metadata": {},
   "outputs": [
    {
     "data": {
      "text/plain": [
       "array([2005., 2010., 2000., 1995., 2015., 1990., 1985.])"
      ]
     },
     "execution_count": 98,
     "metadata": {},
     "output_type": "execute_result"
    }
   ],
   "source": [
    "df.decade_year.unique()"
   ]
  },
  {
   "cell_type": "code",
   "execution_count": 99,
   "id": "0c9538ff",
   "metadata": {},
   "outputs": [
    {
     "data": {
      "image/png": "[encoded data removed]",
      "text/plain": [
       "<Figure size 640x480 with 1 Axes>"
      ]
     },
     "metadata": {},
     "output_type": "display_data"
    }
   ],
   "source": [
    "sns.barplot(df.groupby('year_of_release_new').agg('mean')['user_score'].reset_index(name='mean_user_score'),\n",
    "            x='year_of_release_new',\n",
    "            y='mean_user_score')\n",
    "\n",
    "plt.xticks(rotation=70)\n",
    "plt.show()\n",
    "\n"
   ]
  },
  {
   "cell_type": "markdown",
   "id": "1d041a51",
   "metadata": {},
   "source": [
    "Начиная c 1996-1997 года среднняя оценка пользователей снижается "
   ]
  },
  {
   "cell_type": "code",
   "execution_count": null,
   "id": "f30ae0a0",
   "metadata": {},
   "outputs": [],
   "source": []
  }
 ],
 "metadata": {
  "kernelspec": {
   "display_name": "Python 3 (ipykernel)",
   "language": "python",
   "name": "python3"
  },
  "language_info": {
   "codemirror_mode": {
    "name": "ipython",
    "version": 3
   },
   "file_extension": ".py",
   "mimetype": "text/x-python",
   "name": "python",
   "nbconvert_exporter": "python",
   "pygments_lexer": "ipython3",
   "version": "3.9.2"
  }
 },
 "nbformat": 4,
 "nbformat_minor": 5
}
